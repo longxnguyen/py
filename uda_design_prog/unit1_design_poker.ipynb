{
 "metadata": {
  "name": "",
  "signature": "sha256:c92689c6a226634b39c62e660e2ab8157680161ec05bfd1b99d5023e68e65d3c"
 },
 "nbformat": 3,
 "nbformat_minor": 0,
 "worksheets": [
  {
   "cells": [
    {
     "cell_type": "code",
     "collapsed": false,
     "input": [
      "def poker(hands):\n",
      "    \"\"\"Return the best hand in poker game\n",
      "    \"\"\"\n",
      "    return max(hands, key=hand_rank)"
     ],
     "language": "python",
     "metadata": {},
     "outputs": [],
     "prompt_number": 2
    },
    {
     "cell_type": "code",
     "collapsed": false,
     "input": [
      "def hand_rank(hand):\n",
      "    \"\"\"Return a value indicating the ranking of a card. \n",
      "    \"\"\"\n",
      "    ranks = card_ranks(hand)\n",
      "    if straight(ranks) and flush(hand):\n",
      "        return (8, max(ranks))\n",
      "    elif kind(4, ranks):\n",
      "        # 9 9 9 9 3 = (7, 9, 3)\n",
      "        return (7, kind(4, ranks), kind(1, ranks))\n",
      "    elif fullhouse(ranks):\n",
      "        return (6, kind(3, ranks), kind(2, ranks))\n",
      "    \n",
      "    return 0"
     ],
     "language": "python",
     "metadata": {},
     "outputs": []
    },
    {
     "cell_type": "code",
     "collapsed": false,
     "input": [
      "print max([3, 4, 5, 0])\n",
      "print max([3, 4, -5, 0], key=abs)"
     ],
     "language": "python",
     "metadata": {},
     "outputs": [
      {
       "output_type": "stream",
       "stream": "stdout",
       "text": [
        "5\n",
        "-5\n"
       ]
      }
     ],
     "prompt_number": 1
    },
    {
     "cell_type": "code",
     "collapsed": false,
     "input": [
      "(7, 9, 4) > (7, 3)"
     ],
     "language": "python",
     "metadata": {},
     "outputs": [
      {
       "metadata": {},
       "output_type": "pyout",
       "prompt_number": 7,
       "text": [
        "True"
       ]
      }
     ],
     "prompt_number": 7
    },
    {
     "cell_type": "code",
     "collapsed": false,
     "input": [
      "def test_poker():\n",
      "    \"\"\"Test case for the functions in poker program.\n",
      "    \"\"\"\n",
      "    sf = \"6C 7C 8C 9C TC\".split()\n",
      "    fk = \"9H 9D 9S 9C 7D\".split()\n",
      "    fh = \"TD TC TH 7C 7D\".split()\n",
      "    assert poker([sf, fk, fh]) == sf\n",
      "    assert poker([fk, fh]) == fk\n",
      "    assert poker([fh, fh]) == fh\n",
      "    assert poker([fh]) == fh\n",
      "    assert poker([sk] + 99*[fh]) == sk\n",
      "    return \"test pass\""
     ],
     "language": "python",
     "metadata": {},
     "outputs": [],
     "prompt_number": 4
    },
    {
     "cell_type": "code",
     "collapsed": false,
     "input": [
      "print 9 * ['a']"
     ],
     "language": "python",
     "metadata": {},
     "outputs": [
      {
       "output_type": "stream",
       "stream": "stdout",
       "text": [
        "['a', 'a', 'a', 'a', 'a', 'a', 'a', 'a', 'a']\n"
       ]
      }
     ],
     "prompt_number": 6
    }
   ],
   "metadata": {}
  }
 ]
}