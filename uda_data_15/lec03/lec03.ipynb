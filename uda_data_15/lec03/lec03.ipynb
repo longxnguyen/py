{
 "metadata": {
  "name": "",
  "signature": "sha256:dabc140d1829b2f403aeea2405a784909bb88c6b086eeeca594ef987ef97b132"
 },
 "nbformat": 3,
 "nbformat_minor": 0,
 "worksheets": [
  {
   "cells": [
    {
     "cell_type": "code",
     "collapsed": false,
     "input": [
      "import numpy\n",
      "import scipy.stats\n",
      "import pandas"
     ],
     "language": "python",
     "metadata": {},
     "outputs": [],
     "prompt_number": 5
    },
    {
     "cell_type": "markdown",
     "metadata": {},
     "source": [
      "T-test: http://en.wikipedia.org/wiki/Student%27s_t-test"
     ]
    },
    {
     "cell_type": "code",
     "collapsed": false,
     "input": [
      "import math"
     ],
     "language": "python",
     "metadata": {},
     "outputs": [],
     "prompt_number": 1
    },
    {
     "cell_type": "code",
     "collapsed": false,
     "input": [
      "# Sample 1: N = 150, mu = .299, var = 0.05\n",
      "# Sample 2: N = 165, mu = .307, var = 0.08\n",
      "t_value = (.299 - .307)/math.sqrt(0.05/150 + 0.08/165)\n",
      "t_value"
     ],
     "language": "python",
     "metadata": {},
     "outputs": [
      {
       "metadata": {},
       "output_type": "pyout",
       "prompt_number": 2,
       "text": [
        "-0.2796823595120407"
       ]
      }
     ],
     "prompt_number": 2
    },
    {
     "cell_type": "code",
     "collapsed": false,
     "input": [
      "a = 0.05/150\n",
      "b = 0.08/165\n",
      "c = a*a / (150-1)\n",
      "d = b*b / (165-1)\n",
      "degree_of_freedom = (a + b)*( a + b) / (c + d)\n",
      "degree_of_freedom"
     ],
     "language": "python",
     "metadata": {},
     "outputs": [
      {
       "metadata": {},
       "output_type": "pyout",
       "prompt_number": 3,
       "text": [
        "307.19879975167277"
       ]
      }
     ],
     "prompt_number": 3
    },
    {
     "cell_type": "code",
     "collapsed": false,
     "input": [
      "\n",
      "\n",
      "def compare_averages(filename):\n",
      "    \"\"\"\n",
      "    Performs a t-test on two sets of baseball data (left-handed and right-handed hitters).\n",
      "\n",
      "    You will be given a csv file that has three columns.  A player's\n",
      "    name, handedness (L for lefthanded or R for righthanded) and their\n",
      "    career batting average (called 'avg'). You can look at the csv\n",
      "    file via the following link:\n",
      "    https://www.dropbox.com/s/xcn0u2uxm8c4n6l/baseball_data.csv\n",
      "    \n",
      "    Write a function that will read that the csv file into a pandas data frame,\n",
      "    and run Welch's t-test on the two cohorts defined by handedness.\n",
      "    \n",
      "    One cohort should be a data frame of right-handed batters. And the other\n",
      "    cohort should be a data frame of left-handed batters.\n",
      "    \n",
      "    We have included the scipy.stats library to help you write\n",
      "    or implement Welch's t-test:\n",
      "    http://docs.scipy.org/doc/scipy/reference/stats.html\n",
      "    \n",
      "    With a significance level of 95%, if there is no difference\n",
      "    between the two cohorts, return a tuple consisting of\n",
      "    True, and then the tuple returned by scipy.stats.ttest.  \n",
      "    \n",
      "    If there is a difference, return a tuple consisting of\n",
      "    False, and then the tuple returned by scipy.stats.ttest.\n",
      "    \n",
      "    For example, the tuple that you return may look like:\n",
      "    (True, (9.93570222, 0.000023))\n",
      "    \"\"\"\n",
      "    data = pandas.read_csv(filename)\n",
      "    right_hand = data[data.handedness=='R']\n",
      "    left_hand = data[data.handedness=='L']\n",
      "    \n",
      "    print len(right_hand)\n",
      "    print len(left_hand)\n",
      "    \n",
      "    t, p = scipy.stats.ttest_ind(right_hand.avg, left_hand.avg, equal_var=False)\n",
      "    print t, p\n",
      "    return (p < 0.05, (t, p))\n",
      "    \n",
      "print compare_averages('baseball_data.csv')"
     ],
     "language": "python",
     "metadata": {},
     "outputs": [
      {
       "output_type": "stream",
       "stream": "stdout",
       "text": [
        "737\n",
        "316\n",
        "-3.9867064466 7.48239159097e-05\n",
        "(True, (-3.9867064465971302, 7.482391590970722e-05))\n"
       ]
      }
     ],
     "prompt_number": 13
    },
    {
     "cell_type": "code",
     "collapsed": false,
     "input": [
      "import numpy\n",
      "import pandas\n",
      "\n",
      "def compute_cost(features, values, theta):\n",
      "    \"\"\"\n",
      "    Compute the cost of a list of parameters, theta, given a list of features \n",
      "    (input data points) and values (output data points).\n",
      "    \"\"\"\n",
      "    m = len(values)\n",
      "    sum_of_square_errors = numpy.square(numpy.dot(features, theta) - values).sum()\n",
      "    cost = sum_of_square_errors / (2*m)\n",
      "\n",
      "    return cost\n",
      "\n",
      "def gradient_descent(features, values, theta, alpha, num_iterations):\n",
      "    \"\"\"\n",
      "    Perform gradient descent given a data set with an arbitrary number of features.\n",
      "    \"\"\"\n",
      "\n",
      "    # Write code here that performs num_iterations updates to the elements of theta.\n",
      "    # times. Every time you compute the cost for a given list of thetas, append it \n",
      "    # to cost_history.\n",
      "    # See the Instructor notes for hints. \n",
      "    \n",
      "    cost_history = []\n",
      "    for i in range(num_iterations):\n",
      "        c = compute_cost(features, values, theta)\n",
      "        cost_history.append(c)\n",
      "\n",
      "    ###########################\n",
      "    ### YOUR CODE GOES HERE ###\n",
      "    ###########################\n",
      "\n",
      "    return theta, pandas.Series(cost_history) # leave this line for the grader\n"
     ],
     "language": "python",
     "metadata": {},
     "outputs": []
    },
    {
     "cell_type": "code",
     "collapsed": false,
     "input": [
      "def compute_r_squared(data, predictions):\n",
      "    # Write a function that, given two input numpy arrays, 'data', and 'predictions,'\n",
      "    # returns the coefficient of determination, R^2, for the model that produced \n",
      "    # predictions.\n",
      "    # \n",
      "    # Numpy has a couple of functions -- np.mean() and np.sum() --\n",
      "    # that you might find useful, but you don't have to use them.\n",
      "\n",
      "    # YOUR CODE GOES HERE\n",
      "    delta = data - prediction\n",
      "    nominator = numpy.sum(numpy.dot(delta, delta))\n",
      "    \n",
      "    delta = data - numpy.mean(data)\n",
      "    denominator = numpy.sum(numpy.dot(delta, delta))\n",
      "    \n",
      "    r_squared = 1 - nominator / denominator\n",
      "\n",
      "    return r_squared"
     ],
     "language": "python",
     "metadata": {},
     "outputs": []
    }
   ],
   "metadata": {}
  }
 ]
}