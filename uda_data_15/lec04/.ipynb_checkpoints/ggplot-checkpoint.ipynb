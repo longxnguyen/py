{
 "metadata": {
  "name": "",
  "signature": "sha256:4b4113ab4ff19e0d94ed4287773666e62c1eba7c1b3efa94cea2b84c555dda1f"
 },
 "nbformat": 3,
 "nbformat_minor": 0,
 "worksheets": [
  {
   "cells": [
    {
     "cell_type": "code",
     "collapsed": false,
     "input": [
      "from pandas import *\n",
      "from ggplot import *"
     ],
     "language": "python",
     "metadata": {},
     "outputs": [
      {
       "ename": "ImportError",
       "evalue": "No module named ggplot",
       "output_type": "pyerr",
       "traceback": [
        "\u001b[0;31m---------------------------------------------------------------------------\u001b[0m\n\u001b[0;31mImportError\u001b[0m                               Traceback (most recent call last)",
        "\u001b[0;32m<ipython-input-1-6f7447b40471>\u001b[0m in \u001b[0;36m<module>\u001b[0;34m()\u001b[0m\n\u001b[1;32m      1\u001b[0m \u001b[0;32mfrom\u001b[0m \u001b[0mpandas\u001b[0m \u001b[0;32mimport\u001b[0m \u001b[0;34m*\u001b[0m\u001b[0;34m\u001b[0m\u001b[0m\n\u001b[0;32m----> 2\u001b[0;31m \u001b[0;32mfrom\u001b[0m \u001b[0mggplot\u001b[0m \u001b[0;32mimport\u001b[0m \u001b[0;34m*\u001b[0m\u001b[0;34m\u001b[0m\u001b[0m\n\u001b[0m",
        "\u001b[0;31mImportError\u001b[0m: No module named ggplot"
       ]
      }
     ],
     "prompt_number": 1
    },
    {
     "cell_type": "code",
     "collapsed": false,
     "input": [
      "from pandas import *\n",
      "from ggplot import *\n",
      "\n",
      "import pandas\n",
      "\n",
      "def lineplot(hr_year_csv):\n",
      "    # A csv file will be passed in as an argument which\n",
      "    # contains two columns -- 'HR' (the number of homerun hits)\n",
      "    # and 'yearID' (the year in which the homeruns were hit).\n",
      "    #\n",
      "    # Fill out the body of this function, lineplot, to use the\n",
      "    # passed-in csv file, hr_year.csv, and create a\n",
      "    # chart with points connected by lines, both colored 'red',\n",
      "    # showing the number of HR by year.\n",
      "    #\n",
      "    # You will want to first load the csv file into a pandas dataframe\n",
      "    # and use the pandas dataframe along with ggplot to create your visualization\n",
      "    #\n",
      "    # You can check out the data in the csv file at the link below:\n",
      "    # https://www.dropbox.com/s/awgdal71hc1u06d/hr_year.csv\n",
      "    #\n",
      "    # You can read more about ggplot at the following link:\n",
      "    # https://github.com/yhat/ggplot/\n",
      "    \n",
      "    df = pandas.read_csv(hr_year_csv)\n",
      "    gg = ggplot(aes(x='yearID', y='HR'), data=df) + geom_point(color='red') \\\n",
      "        + geom_line(color='red')\n",
      "    return gg\n"
     ],
     "language": "python",
     "metadata": {},
     "outputs": []
    }
   ],
   "metadata": {}
  }
 ]
}