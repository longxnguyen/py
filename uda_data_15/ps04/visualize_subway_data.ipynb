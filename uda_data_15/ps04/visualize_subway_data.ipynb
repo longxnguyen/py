{
 "metadata": {
  "name": "",
  "signature": "sha256:5ce4b8b388027b3bbd4a466e2f2b4495e74801e08e38b25f7efd38548d05283f"
 },
 "nbformat": 3,
 "nbformat_minor": 0,
 "worksheets": [
  {
   "cells": [
    {
     "cell_type": "code",
     "collapsed": false,
     "input": [
      "%pylab inline\n",
      "from pandas import *\n",
      "from ggplot import *"
     ],
     "language": "python",
     "metadata": {},
     "outputs": [],
     "prompt_number": 1
    },
    {
     "cell_type": "code",
     "collapsed": false,
     "input": [
      "\n",
      "def plot_weather_data(turnstile_weather):\n",
      "    ''' \n",
      "    plot_weather_data is passed a dataframe called turnstile_weather. \n",
      "    Use turnstile_weather along with ggplot to make another data visualization\n",
      "    focused on the MTA and weather data we used in Project 3.\n",
      "    \n",
      "    Make a type of visualization different than what you did in the previous exercise.\n",
      "    Try to use the data in a different way (e.g., if you made a lineplot concerning \n",
      "    ridership and time of day in exercise #1, maybe look at weather and try to make a \n",
      "    histogram in this exercise). Or try to use multiple encodings in your graph if \n",
      "    you didn't in the previous exercise.\n",
      "    \n",
      "    You should feel free to implement something that we discussed in class \n",
      "    (e.g., scatterplots, line plots, or histograms) or attempt to implement\n",
      "    something more advanced if you'd like.\n",
      "\n",
      "    Here are some suggestions for things to investigate and illustrate:\n",
      "     * Ridership by time-of-day or day-of-week\n",
      "     * How ridership varies by subway station (UNIT)\n",
      "     * Which stations have more exits or entries at different times of day\n",
      "       (You can use UNIT as a proxy for subway station.)\n",
      "\n",
      "    If you'd like to learn more about ggplot and its capabilities, take\n",
      "    a look at the documentation at:\n",
      "    https://pypi.python.org/pypi/ggplot/\n",
      "     \n",
      "    You can check out the link \n",
      "    https://www.dropbox.com/s/meyki2wl9xfa7yk/turnstile_data_master_with_weather.csv\n",
      "    to see all the columns and data points included in the turnstile_weather \n",
      "    dataframe.\n",
      "     \n",
      "   However, due to the limitation of our Amazon EC2 server, we are giving you a random\n",
      "    subset, about 1/3 of the actual data in the turnstile_weather dataframe.\n",
      "    '''\n",
      "\n",
      "    plot = # your code here\n",
      "    return plot\n"
     ],
     "language": "python",
     "metadata": {},
     "outputs": []
    }
   ],
   "metadata": {}
  }
 ]
}