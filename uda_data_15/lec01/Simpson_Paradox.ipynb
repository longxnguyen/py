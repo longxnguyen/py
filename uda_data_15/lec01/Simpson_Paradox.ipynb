{
 "metadata": {
  "name": "",
  "signature": "sha256:e9637fd6c8d212af8f7c943ed9980830bb6cf73ef49943295dac498df39daddb"
 },
 "nbformat": 3,
 "nbformat_minor": 0,
 "worksheets": [
  {
   "cells": [
    {
     "cell_type": "code",
     "collapsed": false,
     "input": [
      "import pandas as pd"
     ],
     "language": "python",
     "metadata": {},
     "outputs": [],
     "prompt_number": 1
    },
    {
     "cell_type": "markdown",
     "metadata": {},
     "source": [
      "http://vudlab.com/simpsons/"
     ]
    },
    {
     "cell_type": "code",
     "collapsed": false,
     "input": [
      "# Load csv file\n",
      "df = pd.read_csv('http://www.calvin.edu/~stob/data/Berkeley.csv')"
     ],
     "language": "python",
     "metadata": {},
     "outputs": [],
     "prompt_number": 2
    },
    {
     "cell_type": "code",
     "collapsed": false,
     "input": [
      "print len(df)\n",
      "df.head()"
     ],
     "language": "python",
     "metadata": {},
     "outputs": [
      {
       "output_type": "stream",
       "stream": "stdout",
       "text": [
        "24\n"
       ]
      },
      {
       "html": [
        "<div style=\"max-height:1000px;max-width:1500px;overflow:auto;\">\n",
        "<table border=\"1\" class=\"dataframe\">\n",
        "  <thead>\n",
        "    <tr style=\"text-align: right;\">\n",
        "      <th></th>\n",
        "      <th>Admit</th>\n",
        "      <th>Gender</th>\n",
        "      <th>Dept</th>\n",
        "      <th>Freq</th>\n",
        "    </tr>\n",
        "  </thead>\n",
        "  <tbody>\n",
        "    <tr>\n",
        "      <th>0</th>\n",
        "      <td> Admitted</td>\n",
        "      <td>   Male</td>\n",
        "      <td> A</td>\n",
        "      <td> 512</td>\n",
        "    </tr>\n",
        "    <tr>\n",
        "      <th>1</th>\n",
        "      <td> Rejected</td>\n",
        "      <td>   Male</td>\n",
        "      <td> A</td>\n",
        "      <td> 313</td>\n",
        "    </tr>\n",
        "    <tr>\n",
        "      <th>2</th>\n",
        "      <td> Admitted</td>\n",
        "      <td> Female</td>\n",
        "      <td> A</td>\n",
        "      <td>  89</td>\n",
        "    </tr>\n",
        "    <tr>\n",
        "      <th>3</th>\n",
        "      <td> Rejected</td>\n",
        "      <td> Female</td>\n",
        "      <td> A</td>\n",
        "      <td>  19</td>\n",
        "    </tr>\n",
        "    <tr>\n",
        "      <th>4</th>\n",
        "      <td> Admitted</td>\n",
        "      <td>   Male</td>\n",
        "      <td> B</td>\n",
        "      <td> 353</td>\n",
        "    </tr>\n",
        "  </tbody>\n",
        "</table>\n",
        "</div>"
       ],
       "metadata": {},
       "output_type": "pyout",
       "prompt_number": 6,
       "text": [
        "      Admit  Gender Dept  Freq\n",
        "0  Admitted    Male    A   512\n",
        "1  Rejected    Male    A   313\n",
        "2  Admitted  Female    A    89\n",
        "3  Rejected  Female    A    19\n",
        "4  Admitted    Male    B   353"
       ]
      }
     ],
     "prompt_number": 6
    },
    {
     "cell_type": "code",
     "collapsed": false,
     "input": [
      "df.Gender.value_counts()"
     ],
     "language": "python",
     "metadata": {},
     "outputs": [
      {
       "metadata": {},
       "output_type": "pyout",
       "prompt_number": 9,
       "text": [
        "Male      12\n",
        "Female    12\n",
        "dtype: int64"
       ]
      }
     ],
     "prompt_number": 9
    },
    {
     "cell_type": "code",
     "collapsed": false,
     "input": [
      "float(len(df[(df.Gender=='Male') & (df.Admit=='Admitted')]))/len(df[df.Gender=='Male'])"
     ],
     "language": "python",
     "metadata": {},
     "outputs": [
      {
       "metadata": {},
       "output_type": "pyout",
       "prompt_number": 17,
       "text": [
        "0.5"
       ]
      }
     ],
     "prompt_number": 17
    },
    {
     "cell_type": "code",
     "collapsed": false,
     "input": [
      "float(len(df[(df.Gender=='Female') & (df.Admit=='Admitted')]))/len(df[df.Gender=='Female'])"
     ],
     "language": "python",
     "metadata": {},
     "outputs": [
      {
       "metadata": {},
       "output_type": "pyout",
       "prompt_number": 18,
       "text": [
        "0.5"
       ]
      }
     ],
     "prompt_number": 18
    },
    {
     "cell_type": "code",
     "collapsed": false,
     "input": [
      "t = df.groupby([df.Dept, df.Gender, df.Admit]).sum().unstack()\n",
      "print t"
     ],
     "language": "python",
     "metadata": {},
     "outputs": [
      {
       "output_type": "stream",
       "stream": "stdout",
       "text": [
        "                 Freq          \n",
        "Admit        Admitted  Rejected\n",
        "Dept Gender                    \n",
        "A    Female        89        19\n",
        "     Male         512       313\n",
        "B    Female        17         8\n",
        "     Male         353       207\n",
        "C    Female       202       391\n",
        "     Male         120       205\n",
        "D    Female       131       244\n",
        "     Male         138       279\n",
        "E    Female        94       299\n",
        "     Male          53       138\n",
        "F    Female        24       317\n",
        "     Male          22       351\n"
       ]
      }
     ],
     "prompt_number": 25
    },
    {
     "cell_type": "code",
     "collapsed": false,
     "input": [
      "rate = t.Freq.Admitted/(t.Freq.Admitted + t.Freq.Rejected)\n",
      "print rate"
     ],
     "language": "python",
     "metadata": {},
     "outputs": [
      {
       "output_type": "stream",
       "stream": "stdout",
       "text": [
        "Dept  Gender\n",
        "A     Female    0.824074\n",
        "      Male      0.620606\n",
        "B     Female    0.680000\n",
        "      Male      0.630357\n",
        "C     Female    0.340641\n",
        "      Male      0.369231\n",
        "D     Female    0.349333\n",
        "      Male      0.330935\n",
        "E     Female    0.239186\n",
        "      Male      0.277487\n",
        "F     Female    0.070381\n",
        "      Male      0.058981\n",
        "dtype: float64\n"
       ]
      }
     ],
     "prompt_number": 32
    },
    {
     "cell_type": "code",
     "collapsed": false,
     "input": [
      "admitted  = float(t[t.Admitted]) / (t[t.Admitted] + t[t.Rejected]) "
     ],
     "language": "python",
     "metadata": {},
     "outputs": [
      {
       "ename": "AttributeError",
       "evalue": "'DataFrame' object has no attribute 'Admitted'",
       "output_type": "pyerr",
       "traceback": [
        "\u001b[0;31m---------------------------------------------------------------------------\u001b[0m\n\u001b[0;31mAttributeError\u001b[0m                            Traceback (most recent call last)",
        "\u001b[0;32m<ipython-input-26-3005d4bdd7fb>\u001b[0m in \u001b[0;36m<module>\u001b[0;34m()\u001b[0m\n\u001b[0;32m----> 1\u001b[0;31m \u001b[0madmitted\u001b[0m  \u001b[0;34m=\u001b[0m \u001b[0mfloat\u001b[0m\u001b[0;34m(\u001b[0m\u001b[0mt\u001b[0m\u001b[0;34m[\u001b[0m\u001b[0mt\u001b[0m\u001b[0;34m.\u001b[0m\u001b[0mAdmitted\u001b[0m\u001b[0;34m]\u001b[0m\u001b[0;34m)\u001b[0m \u001b[0;34m/\u001b[0m \u001b[0;34m(\u001b[0m\u001b[0mt\u001b[0m\u001b[0;34m[\u001b[0m\u001b[0mt\u001b[0m\u001b[0;34m.\u001b[0m\u001b[0mAdmitted\u001b[0m\u001b[0;34m]\u001b[0m \u001b[0;34m+\u001b[0m \u001b[0mt\u001b[0m\u001b[0;34m[\u001b[0m\u001b[0mt\u001b[0m\u001b[0;34m.\u001b[0m\u001b[0mRejected\u001b[0m\u001b[0;34m]\u001b[0m\u001b[0;34m)\u001b[0m\u001b[0;34m\u001b[0m\u001b[0m\n\u001b[0m",
        "\u001b[0;32m/Users/longuyen/anaconda/lib/python2.7/site-packages/pandas/core/generic.pyc\u001b[0m in \u001b[0;36m__getattr__\u001b[0;34m(self, name)\u001b[0m\n\u001b[1;32m   1841\u001b[0m                 \u001b[0;32mreturn\u001b[0m \u001b[0mself\u001b[0m\u001b[0;34m[\u001b[0m\u001b[0mname\u001b[0m\u001b[0;34m]\u001b[0m\u001b[0;34m\u001b[0m\u001b[0m\n\u001b[1;32m   1842\u001b[0m             raise AttributeError(\"'%s' object has no attribute '%s'\" %\n\u001b[0;32m-> 1843\u001b[0;31m                                  (type(self).__name__, name))\n\u001b[0m\u001b[1;32m   1844\u001b[0m \u001b[0;34m\u001b[0m\u001b[0m\n\u001b[1;32m   1845\u001b[0m     \u001b[0;32mdef\u001b[0m \u001b[0m__setattr__\u001b[0m\u001b[0;34m(\u001b[0m\u001b[0mself\u001b[0m\u001b[0;34m,\u001b[0m \u001b[0mname\u001b[0m\u001b[0;34m,\u001b[0m \u001b[0mvalue\u001b[0m\u001b[0;34m)\u001b[0m\u001b[0;34m:\u001b[0m\u001b[0;34m\u001b[0m\u001b[0m\n",
        "\u001b[0;31mAttributeError\u001b[0m: 'DataFrame' object has no attribute 'Admitted'"
       ]
      }
     ],
     "prompt_number": 26
    },
    {
     "cell_type": "code",
     "collapsed": false,
     "input": [
      "import numpy."
     ],
     "language": "python",
     "metadata": {},
     "outputs": []
    }
   ],
   "metadata": {}
  }
 ]
}