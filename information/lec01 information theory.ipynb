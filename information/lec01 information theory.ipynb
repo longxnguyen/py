{
 "metadata": {
  "name": "",
  "signature": "sha256:d689097832f8dbb9a31a4c37459fe27a9fe97571d0e71f34ef095686c630555e"
 },
 "nbformat": 3,
 "nbformat_minor": 0,
 "worksheets": [
  {
   "cells": [
    {
     "cell_type": "code",
     "collapsed": false,
     "input": [
      "import math"
     ],
     "language": "python",
     "metadata": {},
     "outputs": [
      {
       "output_type": "stream",
       "stream": "stdout",
       "text": [
        "\n"
       ]
      }
     ],
     "prompt_number": 4
    },
    {
     "cell_type": "code",
     "collapsed": false,
     "input": [
      "# Binary channel\n",
      "# Chance to flip a bit. What are the number of bits flipped?\n",
      "f = .1\n",
      "N = 10000\n",
      "expected = N * f\n",
      "\n",
      "# Variance of binomial distribution\n",
      "var = N * f * (1-f)\n",
      "\n",
      "print expected, '+/-', math.sqrt(var)"
     ],
     "language": "python",
     "metadata": {},
     "outputs": [
      {
       "output_type": "stream",
       "stream": "stdout",
       "text": [
        "1000.0 +/- 30.0\n"
       ]
      }
     ],
     "prompt_number": 5
    },
    {
     "cell_type": "code",
     "collapsed": false,
     "input": [
      "# For 1 GB disk drive, how small does f need to be?\n",
      "10^(-13)\n",
      "\n"
     ],
     "language": "python",
     "metadata": {},
     "outputs": []
    },
    {
     "cell_type": "markdown",
     "metadata": {},
     "source": [
      "Given 5 years of using 1GB, the number of bits is"
     ]
    },
    {
     "cell_type": "code",
     "collapsed": false,
     "input": [
      "print 5 * 365 * 8 * 10**9"
     ],
     "language": "python",
     "metadata": {},
     "outputs": [
      {
       "output_type": "stream",
       "stream": "stdout",
       "text": [
        "14600000000000\n"
       ]
      }
     ],
     "prompt_number": 7
    }
   ],
   "metadata": {}
  }
 ]
}