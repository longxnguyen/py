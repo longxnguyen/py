{
 "metadata": {
  "name": "",
  "signature": "sha256:e4c2610715b9529daa7f7354c259269009adefc7d904787287c996cfd4cd7915"
 },
 "nbformat": 3,
 "nbformat_minor": 0,
 "worksheets": [
  {
   "cells": [
    {
     "cell_type": "markdown",
     "metadata": {},
     "source": [
      "#Tuples\n",
      "\n",
      "A tuple consists of a number of values separated by commas."
     ]
    },
    {
     "cell_type": "code",
     "collapsed": false,
     "input": [
      "name1 = ('Thuc', 'Nguyen')\n",
      "name2 = ('Mark', 'Johnson')\n",
      "print name2"
     ],
     "language": "python",
     "metadata": {},
     "outputs": [
      {
       "output_type": "stream",
       "stream": "stdout",
       "text": [
        "('Mark', 'Johnson')\n"
       ]
      }
     ],
     "prompt_number": 1
    },
    {
     "cell_type": "code",
     "collapsed": false,
     "input": [
      "# A tuple of numbers\n",
      "odd_numbers = 3, 7, 1, 5\n",
      "print odd_numbers"
     ],
     "language": "python",
     "metadata": {},
     "outputs": [
      {
       "output_type": "stream",
       "stream": "stdout",
       "text": [
        "(3, 7, 1, 5)\n"
       ]
      }
     ],
     "prompt_number": 2
    },
    {
     "cell_type": "code",
     "collapsed": false,
     "input": [
      "len(odd_numbers)"
     ],
     "language": "python",
     "metadata": {},
     "outputs": [
      {
       "metadata": {},
       "output_type": "pyout",
       "prompt_number": 3,
       "text": [
        "4"
       ]
      }
     ],
     "prompt_number": 3
    },
    {
     "cell_type": "code",
     "collapsed": false,
     "input": [
      "# make an empty tuple\n",
      "t = ()\n",
      "print t"
     ],
     "language": "python",
     "metadata": {},
     "outputs": [
      {
       "output_type": "stream",
       "stream": "stdout",
       "text": [
        "()\n"
       ]
      }
     ],
     "prompt_number": 4
    },
    {
     "cell_type": "code",
     "collapsed": false,
     "input": [
      "# Make a tuple of one word\n",
      "color = ('red',)\n",
      "print color"
     ],
     "language": "python",
     "metadata": {},
     "outputs": [
      {
       "output_type": "stream",
       "stream": "stdout",
       "text": [
        "('red',)\n"
       ]
      }
     ],
     "prompt_number": 5
    },
    {
     "cell_type": "code",
     "collapsed": false,
     "input": [
      "# Given a list of numbers [1, 2, 3, 5, 7, 11, 13], convert this list into a tuple\n",
      "primes = [1, 2, 3, 5, 7, 11, 13]\n",
      "t = tuple(primes)\n",
      "\n",
      "print 'List: ', primes\n",
      "print 'Tuple: ', t"
     ],
     "language": "python",
     "metadata": {},
     "outputs": [
      {
       "output_type": "stream",
       "stream": "stdout",
       "text": [
        "List:  [1, 2, 3, 5, 7, 11, 13]\n",
        "Tuple:  (1, 2, 3, 5, 7, 11, 13)\n"
       ]
      }
     ],
     "prompt_number": 7
    }
   ],
   "metadata": {}
  }
 ]
}