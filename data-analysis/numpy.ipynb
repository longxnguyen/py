{
  "worksheets": [
    {
      "cells": [
        {
          "metadata": {
            "id": "CffvwgQFbN8-",
            "colab_type": "text"
          },
          "cell_type": "markdown",
          "source": "http://scipy-lectures.github.io/intro/numpy/index.html"
        },
        {
          "metadata": {
            "id": "pqziIvHuu0x-",
            "colab_type": "text"
          },
          "level": 2,
          "cell_type": "heading",
          "source": " Numerical Operations"
        },
        {
          "metadata": {
            "id": "7x1TpgyqZ3xB",
            "colab_type": "code",
            "cellView": null,
            "executionInfo": {
              "status": "ok",
              "timestamp": 1422295372652,
              "user_tz": 480,
              "user": {
                "sessionId": "1fa77d44ec1fb222",
                "userId": "117774385542424991985",
                "permissionId": "01208073454099086239",
                "displayName": "Long Nguyen",
                "color": "#1FA15D",
                "isMe": true,
                "isAnonymous": false,
                "photoUrl": "//lh5.googleusercontent.com/-l-D64WXSKWs/AAAAAAAAAAI/AAAAAAAAABg/voweA7bmFNU/s50-c-k-no/photo.jpg"
              }
            },
            "outputId": "3e1fc7ff-08a4-4166-9cc0-5c523662f3e5"
          },
          "cell_type": "code",
          "input": "import numpy as np",
          "language": "python",
          "outputs": []
        },
        {
          "metadata": {
            "id": "-K-bR2dtaBxs",
            "colab_type": "code",
            "cellView": null,
            "executionInfo": {
              "status": "ok",
              "timestamp": 1422295492381,
              "user_tz": 480,
              "user": {
                "sessionId": "1fa77d44ec1fb222",
                "userId": "117774385542424991985",
                "permissionId": "01208073454099086239",
                "displayName": "Long Nguyen",
                "color": "#1FA15D",
                "isMe": true,
                "isAnonymous": false,
                "photoUrl": "//lh5.googleusercontent.com/-l-D64WXSKWs/AAAAAAAAAAI/AAAAAAAAABg/voweA7bmFNU/s50-c-k-no/photo.jpg"
              }
            },
            "outputId": "7b954906-4133-421a-cbd9-1801c0cf9542"
          },
          "cell_type": "code",
          "input": "# Broadcasting\na = np.tile(np.arange(0, 40, 10), (3,1)).T\nprint a",
          "language": "python",
          "outputs": [
            {
              "output_type": "stream",
              "text": "[[ 0  0  0]\n [10 10 10]\n [20 20 20]\n [30 30 30]]\n",
              "stream": "stdout"
            }
          ]
        },
        {
          "metadata": {
            "id": "G9bVrRO8aubk",
            "colab_type": "code",
            "cellView": null,
            "executionInfo": {
              "status": "ok",
              "timestamp": 1422295538361,
              "user_tz": 480,
              "user": {
                "sessionId": "1fa77d44ec1fb222",
                "userId": "117774385542424991985",
                "permissionId": "01208073454099086239",
                "displayName": "Long Nguyen",
                "color": "#1FA15D",
                "isMe": true,
                "isAnonymous": false,
                "photoUrl": "//lh5.googleusercontent.com/-l-D64WXSKWs/AAAAAAAAAAI/AAAAAAAAABg/voweA7bmFNU/s50-c-k-no/photo.jpg"
              }
            },
            "outputId": "44b7133c-5bc8-4c56-b069-312188545bd5"
          },
          "cell_type": "code",
          "input": "b = np.array([0, 1, 2])\nb",
          "language": "python",
          "outputs": [
            {
              "text/plain": "array([0, 1, 2])",
              "prompt_number": 9,
              "output_type": "pyout",
              "metadata": {}
            }
          ]
        },
        {
          "metadata": {
            "id": "p_WYvweQa3r7",
            "colab_type": "code",
            "cellView": null,
            "executionInfo": {
              "status": "ok",
              "timestamp": 1422295546691,
              "user_tz": 480,
              "user": {
                "sessionId": "1fa77d44ec1fb222",
                "userId": "117774385542424991985",
                "permissionId": "01208073454099086239",
                "displayName": "Long Nguyen",
                "color": "#1FA15D",
                "isMe": true,
                "isAnonymous": false,
                "photoUrl": "//lh5.googleusercontent.com/-l-D64WXSKWs/AAAAAAAAAAI/AAAAAAAAABg/voweA7bmFNU/s50-c-k-no/photo.jpg"
              }
            },
            "outputId": "c30cd931-31d6-4e3d-cc9c-460083c3ead9"
          },
          "cell_type": "code",
          "input": "a + b",
          "language": "python",
          "outputs": [
            {
              "text/plain": "array([[ 0,  1,  2],\n       [10, 11, 12],\n       [20, 21, 22],\n       [30, 31, 32]])",
              "prompt_number": 11,
              "output_type": "pyout",
              "metadata": {}
            }
          ]
        },
        {
          "metadata": {
            "id": "zijxAo03a7sW",
            "colab_type": "code",
            "cellView": null,
            "executionInfo": {
              "status": "ok",
              "timestamp": 1422300369525,
              "user_tz": 480,
              "user": {
                "sessionId": "1fa77d44ec1fb222",
                "userId": "117774385542424991985",
                "permissionId": "01208073454099086239",
                "displayName": "Long Nguyen",
                "color": "#1FA15D",
                "isMe": true,
                "isAnonymous": false,
                "photoUrl": "//lh5.googleusercontent.com/-l-D64WXSKWs/AAAAAAAAAAI/AAAAAAAAABg/voweA7bmFNU/s50-c-k-no/photo.jpg"
              }
            },
            "outputId": "0d8dd875-7d19-4887-aa8a-6a45dd19d913"
          },
          "cell_type": "code",
          "input": "# Broadcasting along the dimension 0\na = np.ones((4, 5))\nprint a\na[0] = 2\na",
          "language": "python",
          "outputs": [
            {
              "output_type": "stream",
              "text": "[[ 1.  1.  1.  1.  1.]\n [ 1.  1.  1.  1.  1.]\n [ 1.  1.  1.  1.  1.]\n [ 1.  1.  1.  1.  1.]]\n",
              "stream": "stdout"
            },
            {
              "text/plain": "array([[ 2.,  2.,  2.,  2.,  2.],\n       [ 1.,  1.,  1.,  1.,  1.],\n       [ 1.,  1.,  1.,  1.,  1.],\n       [ 1.,  1.,  1.,  1.,  1.]])",
              "prompt_number": 14,
              "output_type": "pyout",
              "metadata": {}
            }
          ]
        },
        {
          "metadata": {
            "id": "4o-89pZTtO2l",
            "colab_type": "code",
            "cellView": null,
            "executionInfo": {
              "status": "ok",
              "timestamp": 1422300583753,
              "user_tz": 480,
              "user": {
                "sessionId": "1fa77d44ec1fb222",
                "userId": "117774385542424991985",
                "permissionId": "01208073454099086239",
                "displayName": "Long Nguyen",
                "color": "#1FA15D",
                "isMe": true,
                "isAnonymous": false,
                "photoUrl": "//lh5.googleusercontent.com/-l-D64WXSKWs/AAAAAAAAAAI/AAAAAAAAABg/voweA7bmFNU/s50-c-k-no/photo.jpg"
              }
            },
            "outputId": "ad6d02bc-ce8e-4994-a738-3aa787d03665"
          },
          "cell_type": "code",
          "input": "# Useful trick using broadcast\na = np.arange(0, 40, 10)\nprint a.shape\na = a[:, np.newaxis]  # adds a new axis for each value\nprint a.shape\nprint a\na + np.array([0, 1, 2])",
          "language": "python",
          "outputs": [
            {
              "output_type": "stream",
              "text": "(4,)\n(4, 1)\n[[ 0]\n [10]\n [20]\n [30]]\n",
              "stream": "stdout"
            },
            {
              "text/plain": "array([[ 0,  1,  2],\n       [10, 11, 12],\n       [20, 21, 22],\n       [30, 31, 32]])",
              "prompt_number": 20,
              "output_type": "pyout",
              "metadata": {}
            }
          ]
        },
        {
          "metadata": {
            "id": "SBRh3yz2uJbp",
            "colab_type": "code",
            "cellView": null,
            "executionInfo": {
              "status": "ok",
              "timestamp": 1422300650035,
              "user_tz": 480,
              "user": {
                "sessionId": "1fa77d44ec1fb222",
                "userId": "117774385542424991985",
                "permissionId": "01208073454099086239",
                "displayName": "Long Nguyen",
                "color": "#1FA15D",
                "isMe": true,
                "isAnonymous": false,
                "photoUrl": "//lh5.googleusercontent.com/-l-D64WXSKWs/AAAAAAAAAAI/AAAAAAAAABg/voweA7bmFNU/s50-c-k-no/photo.jpg"
              }
            },
            "outputId": "030d6d60-0e2a-4e4b-eeb1-13fe690ab176"
          },
          "cell_type": "code",
          "input": "# Plot color bars\nx, y = np.arange(5), np.arange(5)[:, np.newaxis]\ndistance = np.sqrt(x ** 2 + y ** 2)\ndistance",
          "language": "python",
          "outputs": [
            {
              "text/plain": "array([[ 0.        ,  1.        ,  2.        ,  3.        ,  4.        ],\n       [ 1.        ,  1.41421356,  2.23606798,  3.16227766,  4.12310563],\n       [ 2.        ,  2.23606798,  2.82842712,  3.60555128,  4.47213595],\n       [ 3.        ,  3.16227766,  3.60555128,  4.24264069,  5.        ],\n       [ 4.        ,  4.12310563,  4.47213595,  5.        ,  5.65685425]])",
              "prompt_number": 22,
              "output_type": "pyout",
              "metadata": {}
            }
          ]
        },
        {
          "metadata": {
            "id": "SjP2mw2YuZnf",
            "colab_type": "code",
            "cellView": null,
            "executionInfo": {
              "status": "ok",
              "timestamp": 1422300671652,
              "user_tz": 480,
              "user": {
                "sessionId": "1fa77d44ec1fb222",
                "userId": "117774385542424991985",
                "permissionId": "01208073454099086239",
                "displayName": "Long Nguyen",
                "color": "#1FA15D",
                "isMe": true,
                "isAnonymous": false,
                "photoUrl": "//lh5.googleusercontent.com/-l-D64WXSKWs/AAAAAAAAAAI/AAAAAAAAABg/voweA7bmFNU/s50-c-k-no/photo.jpg"
              }
            },
            "outputId": "c2e11521-6dd6-4fd5-e9d3-03100bff2cd7"
          },
          "cell_type": "code",
          "input": "plt.pcolor(distance)\nplt.colorbar()",
          "language": "python",
          "outputs": [
            {
              "text/plain": "<matplotlib.colorbar.Colorbar instance at 0x8ced200>",
              "prompt_number": 24,
              "output_type": "pyout",
              "metadata": {}
            },
            {
              "image/png": "[encoded data removed]",
              "text/plain": "<matplotlib.figure.Figure at 0x7feae50>",
              "output_type": "display_data",
              "metadata": {}
            }
          ]
        },
        {
          "metadata": {
            "id": "QxfpibVAuhLM",
            "colab_type": "code",
            "cellView": null,
            "executionInfo": {
              "status": "ok",
              "timestamp": 1422300840108,
              "user_tz": 480,
              "user": {
                "sessionId": "1fa77d44ec1fb222",
                "userId": "117774385542424991985",
                "permissionId": "01208073454099086239",
                "displayName": "Long Nguyen",
                "color": "#1FA15D",
                "isMe": true,
                "isAnonymous": false,
                "photoUrl": "//lh5.googleusercontent.com/-l-D64WXSKWs/AAAAAAAAAAI/AAAAAAAAABg/voweA7bmFNU/s50-c-k-no/photo.jpg"
              }
            },
            "outputId": "9f483bb1-17c6-43e5-bc91-6a285cb19de1"
          },
          "cell_type": "code",
          "input": "# Flattening\na = np.array([[1, 2, 3], [4, 5, 6]])\nprint a\nprint a.ravel()",
          "language": "python",
          "outputs": [
            {
              "output_type": "stream",
              "text": "[[1 2 3]\n [4 5 6]]\n[1 2 3 4 5 6]\n",
              "stream": "stdout"
            }
          ]
        },
        {
          "metadata": {
            "id": "4W9c4GNGvIBV",
            "colab_type": "code",
            "cellView": null,
            "executionInfo": {
              "status": "ok",
              "timestamp": 1422300844221,
              "user_tz": 480,
              "user": {
                "sessionId": "1fa77d44ec1fb222",
                "userId": "117774385542424991985",
                "permissionId": "01208073454099086239",
                "displayName": "Long Nguyen",
                "color": "#1FA15D",
                "isMe": true,
                "isAnonymous": false,
                "photoUrl": "//lh5.googleusercontent.com/-l-D64WXSKWs/AAAAAAAAAAI/AAAAAAAAABg/voweA7bmFNU/s50-c-k-no/photo.jpg"
              }
            },
            "outputId": "9d1df380-0088-4c01-c0b3-70ff7eebf2b3"
          },
          "cell_type": "code",
          "input": "a.T",
          "language": "python",
          "outputs": [
            {
              "text/plain": "array([[1, 4],\n       [2, 5],\n       [3, 6]])",
              "prompt_number": 27,
              "output_type": "pyout",
              "metadata": {}
            }
          ]
        },
        {
          "metadata": {
            "id": "96wrm8GWvJBi",
            "colab_type": "code",
            "cellView": null,
            "executionInfo": {
              "status": "ok",
              "timestamp": 1422300888132,
              "user_tz": 480,
              "user": {
                "sessionId": "1fa77d44ec1fb222",
                "userId": "117774385542424991985",
                "permissionId": "01208073454099086239",
                "displayName": "Long Nguyen",
                "color": "#1FA15D",
                "isMe": true,
                "isAnonymous": false,
                "photoUrl": "//lh5.googleusercontent.com/-l-D64WXSKWs/AAAAAAAAAAI/AAAAAAAAABg/voweA7bmFNU/s50-c-k-no/photo.jpg"
              }
            },
            "outputId": "1576e770-7a19-44f8-cfc2-0bfc484531dc"
          },
          "cell_type": "code",
          "input": "b = a.ravel()\nb = b.reshape((2, 3))\nprint b",
          "language": "python",
          "outputs": [
            {
              "output_type": "stream",
              "text": "[[1 2 3]\n [4 5 6]]\n",
              "stream": "stdout"
            }
          ]
        },
        {
          "metadata": {
            "id": "9uJ_Ku-XvTvw",
            "colab_type": "code",
            "cellView": null,
            "executionInfo": {
              "status": "ok",
              "timestamp": 1422301185636,
              "user_tz": 480,
              "user": {
                "sessionId": "1fa77d44ec1fb222",
                "userId": "117774385542424991985",
                "permissionId": "01208073454099086239",
                "displayName": "Long Nguyen",
                "color": "#1FA15D",
                "isMe": true,
                "isAnonymous": false,
                "photoUrl": "//lh5.googleusercontent.com/-l-D64WXSKWs/AAAAAAAAAAI/AAAAAAAAABg/voweA7bmFNU/s50-c-k-no/photo.jpg"
              }
            },
            "outputId": "a70a8a79-ba3a-48f0-c921-5a292f356519"
          },
          "cell_type": "code",
          "input": "# reshape() may return a view or copy\nb[0, 0] = 99\na",
          "language": "python",
          "outputs": [
            {
              "text/plain": "array([[99,  2,  3],\n       [ 4,  5,  6]])",
              "prompt_number": 30,
              "output_type": "pyout",
              "metadata": {}
            }
          ]
        },
        {
          "metadata": {
            "id": "UtX4x_UJyV2o",
            "colab_type": "text"
          },
          "level": 2,
          "cell_type": "heading",
          "source": "Polynomials"
        },
        {
          "metadata": {
            "id": "1Ozf3vm1yX11",
            "colab_type": "code",
            "cellView": null,
            "executionInfo": {
              "status": "ok",
              "timestamp": 1422301723062,
              "user_tz": 480,
              "user": {
                "sessionId": "1fa77d44ec1fb222",
                "userId": "117774385542424991985",
                "permissionId": "01208073454099086239",
                "displayName": "Long Nguyen",
                "color": "#1FA15D",
                "isMe": true,
                "isAnonymous": false,
                "photoUrl": "//lh5.googleusercontent.com/-l-D64WXSKWs/AAAAAAAAAAI/AAAAAAAAABg/voweA7bmFNU/s50-c-k-no/photo.jpg"
              }
            },
            "outputId": "b172e344-d2ef-432e-fb68-410e2996f1e1"
          },
          "cell_type": "code",
          "input": "# 3x^2 + 2x -1\np = np.poly1d([3, 2, -1])\np",
          "language": "python",
          "outputs": [
            {
              "text/plain": "poly1d([ 3,  2, -1])",
              "prompt_number": 33,
              "output_type": "pyout",
              "metadata": {}
            }
          ]
        },
        {
          "metadata": {
            "id": "Jh1qlfW-yekx",
            "colab_type": "code",
            "cellView": null,
            "executionInfo": {
              "status": "ok",
              "timestamp": 1422301734438,
              "user_tz": 480,
              "user": {
                "sessionId": "1fa77d44ec1fb222",
                "userId": "117774385542424991985",
                "permissionId": "01208073454099086239",
                "displayName": "Long Nguyen",
                "color": "#1FA15D",
                "isMe": true,
                "isAnonymous": false,
                "photoUrl": "//lh5.googleusercontent.com/-l-D64WXSKWs/AAAAAAAAAAI/AAAAAAAAABg/voweA7bmFNU/s50-c-k-no/photo.jpg"
              }
            },
            "outputId": "c5a41947-69cd-4b29-e13b-d6bc8ce2de92"
          },
          "cell_type": "code",
          "input": "p.roots",
          "language": "python",
          "outputs": [
            {
              "text/plain": "array([-1.        ,  0.33333333])",
              "prompt_number": 34,
              "output_type": "pyout",
              "metadata": {}
            }
          ]
        },
        {
          "metadata": {
            "id": "Uood9_8LyiVd",
            "colab_type": "code",
            "cellView": null,
            "executionInfo": {
              "status": "ok",
              "timestamp": 1422301739744,
              "user_tz": 480,
              "user": {
                "sessionId": "1fa77d44ec1fb222",
                "userId": "117774385542424991985",
                "permissionId": "01208073454099086239",
                "displayName": "Long Nguyen",
                "color": "#1FA15D",
                "isMe": true,
                "isAnonymous": false,
                "photoUrl": "//lh5.googleusercontent.com/-l-D64WXSKWs/AAAAAAAAAAI/AAAAAAAAABg/voweA7bmFNU/s50-c-k-no/photo.jpg"
              }
            },
            "outputId": "ec3fcaaa-de7c-498e-f348-eb9387f88328"
          },
          "cell_type": "code",
          "input": "p.order",
          "language": "python",
          "outputs": [
            {
              "text/plain": "2",
              "prompt_number": 35,
              "output_type": "pyout",
              "metadata": {}
            }
          ]
        },
        {
          "metadata": {
            "id": "ItHL_qTHyjqH",
            "colab_type": "code",
            "cellView": null,
            "executionInfo": {
              "status": "ok",
              "timestamp": 1422301972632,
              "user_tz": 480,
              "user": {
                "sessionId": "1fa77d44ec1fb222",
                "userId": "117774385542424991985",
                "permissionId": "01208073454099086239",
                "displayName": "Long Nguyen",
                "color": "#1FA15D",
                "isMe": true,
                "isAnonymous": false,
                "photoUrl": "//lh5.googleusercontent.com/-l-D64WXSKWs/AAAAAAAAAAI/AAAAAAAAABg/voweA7bmFNU/s50-c-k-no/photo.jpg"
              }
            },
            "outputId": "d52c64fb-2308-4423-ea80-3b65df463013"
          },
          "cell_type": "code",
          "input": "# fit data to polynomial\nx = np.linspace(0, 1, 20)\ny = np.cos(x) + 0.3 * np.random.rand(20)\np = np.poly1d(np.polyfit(x, y, 3))\n\nt = np.linspace(0, 1, 200)\nplt.plot(x, y, 'o', t, p(t), '-')",
          "language": "python",
          "outputs": [
            {
              "text/plain": "[<matplotlib.lines.Line2D at 0x9c97850>,\n <matplotlib.lines.Line2D at 0x9c97a90>]",
              "prompt_number": 37,
              "output_type": "pyout",
              "metadata": {}
            },
            {
              "image/png": "[encoded data removed]",
              "text/plain": "<matplotlib.figure.Figure at 0x7fee510>",
              "output_type": "display_data",
              "metadata": {}
            }
          ]
        },
        {
          "metadata": {
            "id": "4ZbbjDnazceE",
            "colab_type": "code",
            "cellView": null
          },
          "cell_type": "code",
          "input": "# Using polynomials in Chebyshev basis",
          "language": "python",
          "outputs": []
        }
      ]
    }
  ],
  "metadata": {
    "name": "numpy.ipynb",
    "colabVersion": "0.3"
  },
  "nbformat": 3,
  "nbformat_minor": 0
}