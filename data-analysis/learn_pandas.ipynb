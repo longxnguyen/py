{
  "worksheets": [
    {
      "cells": [
        {
          "metadata": {
            "id": "uCiF0HGzkH7u",
            "colab_type": "code",
            "cellView": null,
            "executionInfo": {
              "status": "ok",
              "timestamp": 1420756185772,
              "user_tz": 480,
              "user": {
                "sessionId": "1c7290c59f8ce51e",
                "userId": "117774385542424991985",
                "permissionId": "01208073454099086239",
                "displayName": "Long Nguyen",
                "color": "#1FA15D",
                "isMe": true,
                "isAnonymous": false,
                "photoUrl": "//lh5.googleusercontent.com/-l-D64WXSKWs/AAAAAAAAAAI/AAAAAAAAABg/voweA7bmFNU/s50-c-k-no/photo.jpg"
              }
            },
            "outputId": "503630c5-5aa9-4089-ab2b-4ecaf18a092f"
          },
          "cell_type": "code",
          "input": "import pandas as pd\nimport numpy as np\nrandn = np.random.randn",
          "language": "python",
          "outputs": []
        },
        {
          "metadata": {
            "id": "7t2XBZRbkLfH",
            "colab_type": "code",
            "cellView": null,
            "executionInfo": {
              "status": "ok",
              "timestamp": 1420754573371,
              "user_tz": 480,
              "user": {
                "sessionId": "1c7290c59f8ce51e",
                "userId": "117774385542424991985",
                "permissionId": "01208073454099086239",
                "displayName": "Long Nguyen",
                "color": "#1FA15D",
                "isMe": true,
                "isAnonymous": false,
                "photoUrl": "//lh5.googleusercontent.com/-l-D64WXSKWs/AAAAAAAAAAI/AAAAAAAAABg/voweA7bmFNU/s50-c-k-no/photo.jpg"
              }
            },
            "outputId": "9848fa68-fe9c-48c6-dd5e-f765c31e216c"
          },
          "cell_type": "code",
          "input": "df1 = pd.DataFrame(np.random.randn(8,2), columns=['one', 'two'])\ndf2 = pd.DataFrame(np.random.randn(3,2), columns=['one', 'two'])",
          "language": "python",
          "outputs": []
        },
        {
          "metadata": {
            "id": "ETVmCIYWkcsv",
            "colab_type": "code",
            "cellView": null,
            "executionInfo": {
              "status": "error",
              "timestamp": 1420754575669,
              "user_tz": 480,
              "user": {
                "sessionId": "1c7290c59f8ce51e",
                "userId": "117774385542424991985",
                "permissionId": "01208073454099086239",
                "displayName": "Long Nguyen",
                "color": "#1FA15D",
                "isMe": true,
                "isAnonymous": false,
                "photoUrl": "//lh5.googleusercontent.com/-l-D64WXSKWs/AAAAAAAAAAI/AAAAAAAAABg/voweA7bmFNU/s50-c-k-no/photo.jpg"
              }
            },
            "outputId": "81601d9e-fb70-434c-9668-0695af088c20"
          },
          "cell_type": "code",
          "input": "df = df1.join(df2)",
          "language": "python",
          "outputs": [
            {
              "output_type": "pyerr",
              "ename": "ValueError",
              "traceback": [
                "\u001b[1;31m---------------------------------------------------------------------------\u001b[0m\n\u001b[1;31mValueError\u001b[0m                                Traceback (most recent call last)",
                "\u001b[1;32m<ipython-input-8-26cd4baef33f>\u001b[0m in \u001b[0;36m<module>\u001b[1;34m()\u001b[0m\n\u001b[1;32m----> 1\u001b[1;33m \u001b[0mdf\u001b[0m \u001b[1;33m=\u001b[0m \u001b[0mdf1\u001b[0m\u001b[1;33m.\u001b[0m\u001b[0mjoin\u001b[0m\u001b[1;33m(\u001b[0m\u001b[0mdf2\u001b[0m\u001b[1;33m)\u001b[0m\u001b[1;33m\u001b[0m\u001b[0m\n\u001b[0m",
                "\u001b[1;32m/usr/local/google/home/longuyen/workspace/notebook/google3/blaze-bin/ads/branding/grp/tools/colab_notebook.runfiles/google3/third_party/py/pandas/core/frame.py\u001b[0m in \u001b[0;36mjoin\u001b[1;34m(self, other, on, how, lsuffix, rsuffix, sort)\u001b[0m\n\u001b[0;32m   3578\u001b[0m         \u001b[1;31m# For SparseDataFrame's benefit\u001b[0m\u001b[1;33m\u001b[0m\u001b[1;33m\u001b[0m\u001b[0m\n\u001b[0;32m   3579\u001b[0m         return self._join_compat(other, on=on, how=how, lsuffix=lsuffix,\n\u001b[1;32m-> 3580\u001b[1;33m                                  rsuffix=rsuffix, sort=sort)\n\u001b[0m\u001b[0;32m   3581\u001b[0m \u001b[1;33m\u001b[0m\u001b[0m\n\u001b[0;32m   3582\u001b[0m     def _join_compat(self, other, on=None, how='left', lsuffix='', rsuffix='',\n",
                "\u001b[1;32m/usr/local/google/home/longuyen/workspace/notebook/google3/blaze-bin/ads/branding/grp/tools/colab_notebook.runfiles/google3/third_party/py/pandas/core/frame.py\u001b[0m in \u001b[0;36m_join_compat\u001b[1;34m(self, other, on, how, lsuffix, rsuffix, sort)\u001b[0m\n\u001b[0;32m   3592\u001b[0m             return merge(self, other, left_on=on, how=how,\n\u001b[0;32m   3593\u001b[0m                          \u001b[0mleft_index\u001b[0m\u001b[1;33m=\u001b[0m\u001b[0mon\u001b[0m \u001b[1;32mis\u001b[0m \u001b[0mNone\u001b[0m\u001b[1;33m,\u001b[0m \u001b[0mright_index\u001b[0m\u001b[1;33m=\u001b[0m\u001b[0mTrue\u001b[0m\u001b[1;33m,\u001b[0m\u001b[1;33m\u001b[0m\u001b[0m\n\u001b[1;32m-> 3594\u001b[1;33m                          suffixes=(lsuffix, rsuffix), sort=sort)\n\u001b[0m\u001b[0;32m   3595\u001b[0m         \u001b[1;32melse\u001b[0m\u001b[1;33m:\u001b[0m\u001b[1;33m\u001b[0m\u001b[0m\n\u001b[0;32m   3596\u001b[0m             \u001b[1;32mif\u001b[0m \u001b[0mon\u001b[0m \u001b[1;32mis\u001b[0m \u001b[1;32mnot\u001b[0m \u001b[0mNone\u001b[0m\u001b[1;33m:\u001b[0m\u001b[1;33m\u001b[0m\u001b[0m\n",
                "\u001b[1;32m/usr/local/google/home/longuyen/workspace/notebook/google3/blaze-bin/ads/branding/grp/tools/colab_notebook.runfiles/google3/third_party/py/pandas/tools/merge.py\u001b[0m in \u001b[0;36mmerge\u001b[1;34m(left, right, how, on, left_on, right_on, left_index, right_index, sort, suffixes, copy)\u001b[0m\n\u001b[0;32m     38\u001b[0m                          \u001b[0mright_index\u001b[0m\u001b[1;33m=\u001b[0m\u001b[0mright_index\u001b[0m\u001b[1;33m,\u001b[0m \u001b[0msort\u001b[0m\u001b[1;33m=\u001b[0m\u001b[0msort\u001b[0m\u001b[1;33m,\u001b[0m \u001b[0msuffixes\u001b[0m\u001b[1;33m=\u001b[0m\u001b[0msuffixes\u001b[0m\u001b[1;33m,\u001b[0m\u001b[1;33m\u001b[0m\u001b[0m\n\u001b[0;32m     39\u001b[0m                          copy=copy)\n\u001b[1;32m---> 40\u001b[1;33m     \u001b[1;32mreturn\u001b[0m \u001b[0mop\u001b[0m\u001b[1;33m.\u001b[0m\u001b[0mget_result\u001b[0m\u001b[1;33m(\u001b[0m\u001b[1;33m)\u001b[0m\u001b[1;33m\u001b[0m\u001b[0m\n\u001b[0m\u001b[0;32m     41\u001b[0m \u001b[1;32mif\u001b[0m \u001b[0m__debug__\u001b[0m\u001b[1;33m:\u001b[0m\u001b[1;33m\u001b[0m\u001b[0m\n\u001b[0;32m     42\u001b[0m     \u001b[0mmerge\u001b[0m\u001b[1;33m.\u001b[0m\u001b[0m__doc__\u001b[0m \u001b[1;33m=\u001b[0m \u001b[0m_merge_doc\u001b[0m \u001b[1;33m%\u001b[0m \u001b[1;34m'\\nleft : DataFrame'\u001b[0m\u001b[1;33m\u001b[0m\u001b[0m\n",
                "\u001b[1;32m/usr/local/google/home/longuyen/workspace/notebook/google3/blaze-bin/ads/branding/grp/tools/colab_notebook.runfiles/google3/third_party/py/pandas/tools/merge.py\u001b[0m in \u001b[0;36mget_result\u001b[1;34m(self)\u001b[0m\n\u001b[0;32m    187\u001b[0m \u001b[1;33m\u001b[0m\u001b[0m\n\u001b[0;32m    188\u001b[0m         \u001b[1;31m# this is a bit kludgy\u001b[0m\u001b[1;33m\u001b[0m\u001b[1;33m\u001b[0m\u001b[0m\n\u001b[1;32m--> 189\u001b[1;33m         \u001b[0mldata\u001b[0m\u001b[1;33m,\u001b[0m \u001b[0mrdata\u001b[0m \u001b[1;33m=\u001b[0m \u001b[0mself\u001b[0m\u001b[1;33m.\u001b[0m\u001b[0m_get_merge_data\u001b[0m\u001b[1;33m(\u001b[0m\u001b[1;33m)\u001b[0m\u001b[1;33m\u001b[0m\u001b[0m\n\u001b[0m\u001b[0;32m    190\u001b[0m \u001b[1;33m\u001b[0m\u001b[0m\n\u001b[0;32m    191\u001b[0m         \u001b[1;31m# TODO: more efficiently handle group keys to avoid extra\u001b[0m\u001b[1;33m\u001b[0m\u001b[1;33m\u001b[0m\u001b[0m\n",
                "\u001b[1;32m/usr/local/google/home/longuyen/workspace/notebook/google3/blaze-bin/ads/branding/grp/tools/colab_notebook.runfiles/google3/third_party/py/pandas/tools/merge.py\u001b[0m in \u001b[0;36m_get_merge_data\u001b[1;34m(self)\u001b[0m\n\u001b[0;32m    282\u001b[0m         \u001b[0mlsuf\u001b[0m\u001b[1;33m,\u001b[0m \u001b[0mrsuf\u001b[0m \u001b[1;33m=\u001b[0m \u001b[0mself\u001b[0m\u001b[1;33m.\u001b[0m\u001b[0msuffixes\u001b[0m\u001b[1;33m\u001b[0m\u001b[0m\n\u001b[0;32m    283\u001b[0m         ldata, rdata = ldata._maybe_rename_join(rdata, lsuf, rsuf,\n\u001b[1;32m--> 284\u001b[1;33m                                                 copydata=False)\n\u001b[0m\u001b[0;32m    285\u001b[0m         \u001b[1;32mreturn\u001b[0m \u001b[0mldata\u001b[0m\u001b[1;33m,\u001b[0m \u001b[0mrdata\u001b[0m\u001b[1;33m\u001b[0m\u001b[0m\n\u001b[0;32m    286\u001b[0m \u001b[1;33m\u001b[0m\u001b[0m\n",
                "\u001b[1;32m/usr/local/google/home/longuyen/workspace/notebook/google3/blaze-bin/ads/branding/grp/tools/colab_notebook.runfiles/google3/third_party/py/pandas/core/internals.py\u001b[0m in \u001b[0;36m_maybe_rename_join\u001b[1;34m(self, other, lsuffix, rsuffix, copydata)\u001b[0m\n\u001b[0;32m   3441\u001b[0m             \u001b[1;32mif\u001b[0m \u001b[1;32mnot\u001b[0m \u001b[0mlsuffix\u001b[0m \u001b[1;32mand\u001b[0m \u001b[1;32mnot\u001b[0m \u001b[0mrsuffix\u001b[0m\u001b[1;33m:\u001b[0m\u001b[1;33m\u001b[0m\u001b[0m\n\u001b[0;32m   3442\u001b[0m                 raise ValueError('columns overlap but no suffix specified: %s'\n\u001b[1;32m-> 3443\u001b[1;33m                                  % to_rename)\n\u001b[0m\u001b[0;32m   3444\u001b[0m \u001b[1;33m\u001b[0m\u001b[0m\n\u001b[0;32m   3445\u001b[0m             \u001b[1;32mdef\u001b[0m \u001b[0mlrenamer\u001b[0m\u001b[1;33m(\u001b[0m\u001b[0mx\u001b[0m\u001b[1;33m)\u001b[0m\u001b[1;33m:\u001b[0m\u001b[1;33m\u001b[0m\u001b[0m\n",
                "\u001b[1;31mValueError\u001b[0m: columns overlap but no suffix specified: Index([u'one', u'two'], dtype='object')"
              ]
            }
          ]
        },
        {
          "metadata": {
            "id": "sDW6HlksFLMI",
            "colab_type": "text"
          },
          "level": 1,
          "cell_type": "heading",
          "source": "Group By"
        },
        {
          "metadata": {
            "id": "F8oVLw_HFLML",
            "colab_type": "code",
            "cellView": null,
            "executionInfo": null,
            "outputId": "546dcb57-99a4-446e-9451-e7ce4b0f5594"
          },
          "cell_type": "code",
          "input": "\ndf = pd.DataFrame({'A' : ['foo', 'bar', 'foo', 'bar',\n                          'foo', 'bar', 'foo', 'foo'],\n                   'B' : ['one', 'one', 'two', 'three',\n                          'two', 'two', 'one', 'three'],\n                   'C' : np.random.randn(8),\n                   'D' : np.random.randn(8)})\ndf",
          "language": "python",
          "outputs": [
            {
              "html": "<div style=\"max-height:1000px;max-width:1500px;overflow:auto;\">\n<table border=\"1\" class=\"dataframe\">\n  <thead>\n    <tr style=\"text-align: right;\">\n      <th></th>\n      <th>A</th>\n      <th>B</th>\n      <th>C</th>\n      <th>D</th>\n    </tr>\n  </thead>\n  <tbody>\n    <tr>\n      <th>0</th>\n      <td> foo</td>\n      <td>   one</td>\n      <td>-0.134698</td>\n      <td>-0.568517</td>\n    </tr>\n    <tr>\n      <th>1</th>\n      <td> bar</td>\n      <td>   one</td>\n      <td>-0.697447</td>\n      <td>-0.119658</td>\n    </tr>\n    <tr>\n      <th>2</th>\n      <td> foo</td>\n      <td>   two</td>\n      <td>-1.081035</td>\n      <td> 0.304746</td>\n    </tr>\n    <tr>\n      <th>3</th>\n      <td> bar</td>\n      <td> three</td>\n      <td>-0.170071</td>\n      <td> 2.035351</td>\n    </tr>\n    <tr>\n      <th>4</th>\n      <td> foo</td>\n      <td>   two</td>\n      <td> 0.617095</td>\n      <td>-0.903469</td>\n    </tr>\n    <tr>\n      <th>5</th>\n      <td> bar</td>\n      <td>   two</td>\n      <td>-0.101342</td>\n      <td>-1.351202</td>\n    </tr>\n    <tr>\n      <th>6</th>\n      <td> foo</td>\n      <td>   one</td>\n      <td> 0.373681</td>\n      <td> 1.532737</td>\n    </tr>\n    <tr>\n      <th>7</th>\n      <td> foo</td>\n      <td> three</td>\n      <td> 0.021707</td>\n      <td>-0.270484</td>\n    </tr>\n  </tbody>\n</table>\n<p>8 rows \u00d7 4 columns</p>\n</div>",
              "metadata": {},
              "output_type": "pyout",
              "prompt_number": 41,
              "text": "     A      B         C         D\n0  foo    one -0.134698 -0.568517\n1  bar    one -0.697447 -0.119658\n2  foo    two -1.081035  0.304746\n3  bar  three -0.170071  2.035351\n4  foo    two  0.617095 -0.903469\n5  bar    two -0.101342 -1.351202\n6  foo    one  0.373681  1.532737\n7  foo  three  0.021707 -0.270484\n\n[8 rows x 4 columns]"
            }
          ]
        },
        {
          "metadata": {
            "id": "dJmIlfivFLMV",
            "colab_type": "code",
            "cellView": null,
            "executionInfo": null,
            "outputId": "bf7eb7b0-8d55-4371-a6f1-a4b3d7e59564"
          },
          "cell_type": "code",
          "input": "df['C'].groupby(df['A']).sum()",
          "language": "python",
          "outputs": [
            {
              "metadata": {},
              "output_type": "pyout",
              "prompt_number": 43,
              "text": "A\nbar   -0.968861\nfoo   -0.203249\ndtype: float64"
            }
          ]
        },
        {
          "metadata": {
            "id": "L-tTGXMDFLMe",
            "colab_type": "code",
            "cellView": null,
            "executionInfo": null,
            "outputId": "1b3aed60-20ae-4542-aca3-15d179fce8a3"
          },
          "cell_type": "code",
          "input": "gb = df.groupby(['A'])\ngb.sum()",
          "language": "python",
          "outputs": [
            {
              "html": "<div style=\"max-height:1000px;max-width:1500px;overflow:auto;\">\n<table border=\"1\" class=\"dataframe\">\n  <thead>\n    <tr style=\"text-align: right;\">\n      <th></th>\n      <th>C</th>\n      <th>D</th>\n    </tr>\n    <tr>\n      <th>A</th>\n      <th></th>\n      <th></th>\n    </tr>\n  </thead>\n  <tbody>\n    <tr>\n      <th>bar</th>\n      <td> 0.703674</td>\n      <td> 0.293201</td>\n    </tr>\n    <tr>\n      <th>foo</th>\n      <td>-0.049056</td>\n      <td>-2.300479</td>\n    </tr>\n  </tbody>\n</table>\n<p>2 rows \u00d7 2 columns</p>\n</div>",
              "metadata": {},
              "output_type": "pyout",
              "prompt_number": 40,
              "text": "            C         D\nA                      \nbar  0.703674  0.293201\nfoo -0.049056 -2.300479\n\n[2 rows x 2 columns]"
            }
          ]
        }
      ]
    }
  ],
  "metadata": {
    "name": "learn_pandas.ipynb",
    "colabVersion": "0.3"
  },
  "nbformat": 3,
  "nbformat_minor": 0
}