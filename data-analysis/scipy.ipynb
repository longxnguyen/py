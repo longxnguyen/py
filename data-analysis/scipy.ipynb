{
  "worksheets": [
    {
      "cells": [
        {
          "metadata": {
            "id": "f8Tq20kg9vvn",
            "colab_type": "text"
          },
          "level": 2,
          "cell_type": "heading",
          "source": "Linear Algebra"
        },
        {
          "metadata": {
            "id": "Z692MxYQ9yEY",
            "colab_type": "code",
            "cellView": null,
            "executionInfo": {
              "status": "ok",
              "timestamp": 1422304711351,
              "user_tz": 480,
              "user": {
                "sessionId": "22ca4f93fbb5a9aa",
                "userId": "117774385542424991985",
                "permissionId": "01208073454099086239",
                "displayName": "Long Nguyen",
                "color": "#1FA15D",
                "isMe": true,
                "isAnonymous": false,
                "photoUrl": "//lh5.googleusercontent.com/-l-D64WXSKWs/AAAAAAAAAAI/AAAAAAAAABg/voweA7bmFNU/s50-c-k-no/photo.jpg"
              }
            },
            "outputId": "508d253f-eb1e-44f6-bc3d-973f341c7276"
          },
          "cell_type": "code",
          "input": "from scipy import linalg\nimport numpy as np",
          "language": "python",
          "outputs": []
        },
        {
          "metadata": {
            "id": "JkURzPP191So",
            "colab_type": "code",
            "cellView": null,
            "executionInfo": {
              "status": "ok",
              "timestamp": 1422304739617,
              "user_tz": 480,
              "user": {
                "sessionId": "22ca4f93fbb5a9aa",
                "userId": "117774385542424991985",
                "permissionId": "01208073454099086239",
                "displayName": "Long Nguyen",
                "color": "#1FA15D",
                "isMe": true,
                "isAnonymous": false,
                "photoUrl": "//lh5.googleusercontent.com/-l-D64WXSKWs/AAAAAAAAAAI/AAAAAAAAABg/voweA7bmFNU/s50-c-k-no/photo.jpg"
              }
            },
            "outputId": "07d1697d-3e5b-4353-920e-c1d979d20576"
          },
          "cell_type": "code",
          "input": "#  scipy.linalg.det() function computes the determinant of a square matrix:\na = np.array([[1, 2], [3, 4]])\nlinalg.det(a)",
          "language": "python",
          "outputs": [
            {
              "text/plain": "-2.0",
              "prompt_number": 3,
              "output_type": "pyout",
              "metadata": {}
            }
          ]
        },
        {
          "metadata": {
            "id": "wJrh9bTM-ADR",
            "colab_type": "code",
            "cellView": null,
            "executionInfo": {
              "status": "ok",
              "timestamp": 1422304844436,
              "user_tz": 480,
              "user": {
                "sessionId": "22ca4f93fbb5a9aa",
                "userId": "117774385542424991985",
                "permissionId": "01208073454099086239",
                "displayName": "Long Nguyen",
                "color": "#1FA15D",
                "isMe": true,
                "isAnonymous": false,
                "photoUrl": "//lh5.googleusercontent.com/-l-D64WXSKWs/AAAAAAAAAAI/AAAAAAAAABg/voweA7bmFNU/s50-c-k-no/photo.jpg"
              }
            },
            "outputId": "e22d068e-adab-4892-ca3d-1943606f7935"
          },
          "cell_type": "code",
          "input": "#  computes the inverse of a square matrix\ninverted_a = linalg.inv(a)\nprint inverted_a\nprint np.allclose(np.dot(a, inverted_a), np.eye(2))",
          "language": "python",
          "outputs": [
            {
              "output_type": "stream",
              "text": "[[-2.   1. ]\n [ 1.5 -0.5]]\nTrue\n",
              "stream": "stdout"
            }
          ]
        },
        {
          "metadata": {
            "id": "YKGLRcL49mPN",
            "colab_type": "code",
            "cellView": null,
            "executionInfo": {
              "status": "ok",
              "timestamp": 1422304912340,
              "user_tz": 480,
              "user": {
                "sessionId": "22ca4f93fbb5a9aa",
                "userId": "117774385542424991985",
                "permissionId": "01208073454099086239",
                "displayName": "Long Nguyen",
                "color": "#1FA15D",
                "isMe": true,
                "isAnonymous": false,
                "photoUrl": "//lh5.googleusercontent.com/-l-D64WXSKWs/AAAAAAAAAAI/AAAAAAAAABg/voweA7bmFNU/s50-c-k-no/photo.jpg"
              }
            },
            "outputId": "873a41c9-1c45-42fd-b5ba-ae86d9694490"
          },
          "cell_type": "code",
          "input": "# singular-value decomposition (SVD):\na = np.arange(9).reshape((3, 3)) + np.diag([1, 0, 1])\nprint a",
          "language": "python",
          "outputs": [
            {
              "output_type": "stream",
              "text": "[[1 1 2]\n [3 4 5]\n [6 7 9]]\n",
              "stream": "stdout"
            }
          ]
        },
        {
          "metadata": {
            "id": "_uw30sYa-qOg",
            "colab_type": "code",
            "cellView": null,
            "executionInfo": {
              "status": "ok",
              "timestamp": 1422304971357,
              "user_tz": 480,
              "user": {
                "sessionId": "22ca4f93fbb5a9aa",
                "userId": "117774385542424991985",
                "permissionId": "01208073454099086239",
                "displayName": "Long Nguyen",
                "color": "#1FA15D",
                "isMe": true,
                "isAnonymous": false,
                "photoUrl": "//lh5.googleusercontent.com/-l-D64WXSKWs/AAAAAAAAAAI/AAAAAAAAABg/voweA7bmFNU/s50-c-k-no/photo.jpg"
              }
            },
            "outputId": "1dc79295-c726-484d-84a2-3f8257c3b823"
          },
          "cell_type": "code",
          "input": "u, s, v = linalg.svd(a)\nprint 'u: ', u\nprint 's: ', s\nprint 'v: ', v",
          "language": "python",
          "outputs": [
            {
              "output_type": "stream",
              "text": "u:  [[-0.1617463  -0.98659196  0.02178164]\n [-0.47456365  0.09711667  0.87484724]\n [-0.86523261  0.13116653 -0.48390895]]\ns:  [ 14.88982544   0.45294236   0.29654967]\nv:  [[-0.45513179 -0.54511245 -0.70406496]\n [ 0.20258033  0.70658087 -0.67801525]\n [-0.86707339  0.45121601  0.21115836]]\n",
              "stream": "stdout"
            }
          ]
        },
        {
          "metadata": {
            "id": "5A_s0fOR-vLI",
            "colab_type": "code",
            "cellView": null
          },
          "cell_type": "code",
          "input": "",
          "language": "python",
          "outputs": []
        }
      ]
    }
  ],
  "metadata": {
    "name": "scipy.ipynb",
    "colabVersion": "0.3"
  },
  "nbformat": 3,
  "nbformat_minor": 0
}