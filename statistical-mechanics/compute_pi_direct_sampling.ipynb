{
 "metadata": {
  "name": "",
  "signature": "sha256:a14461f2c3ec7b4d699104f1b2f8d0c36f81772ac21b659d5cd4d2e551a81a0f"
 },
 "nbformat": 3,
 "nbformat_minor": 0,
 "worksheets": [
  {
   "cells": [
    {
     "cell_type": "code",
     "collapsed": false,
     "input": [
      "%pylab inline\n",
      "import math\n",
      "import pylab\n",
      "import random"
     ],
     "language": "python",
     "metadata": {},
     "outputs": [
      {
       "output_type": "stream",
       "stream": "stdout",
       "text": [
        "Populating the interactive namespace from numpy and matplotlib\n"
       ]
      }
     ],
     "prompt_number": 1
    },
    {
     "cell_type": "code",
     "collapsed": false,
     "input": [
      "# Directly sampling pi\n",
      "def estimate_pi_direct(n_trials):\n",
      "    n_hits = 0\n",
      "    for i in range(n_trials):\n",
      "        x = random.uniform(-1.0, 1.0)\n",
      "        y = random.uniform(-1.0, 1.0)\n",
      "        if x**2 + y**2 < 1.0:\n",
      "            n_hits += 1\n",
      "    return 4.0 * n_hits / float(n_trials)\n",
      "\n",
      "estimate_pi_direct(10**5)"
     ],
     "language": "python",
     "metadata": {},
     "outputs": [
      {
       "metadata": {},
       "output_type": "pyout",
       "prompt_number": 2,
       "text": [
        "3.14292"
       ]
      }
     ],
     "prompt_number": 2
    },
    {
     "cell_type": "code",
     "collapsed": false,
     "input": [
      "# Compute MRSE over many runs.\n",
      "n_runs = 500\n",
      "errors = []\n",
      "sizes = []\n",
      "for i in range(9):\n",
      "    n_trials = 2 ** (i+4)\n",
      "    error = 0.0\n",
      "    for j in range(n_runs):\n",
      "        pi_est = estimate_pi_direct(n_trials)\n",
      "        error += (math.pi - pi_est) ** 2\n",
      "    errors.append(math.sqrt(error/n_runs))\n",
      "    sizes.append(n_trials)\n",
      "        "
     ],
     "language": "python",
     "metadata": {},
     "outputs": [],
     "prompt_number": 5
    },
    {
     "cell_type": "code",
     "collapsed": false,
     "input": [
      "pylab.plot([10.0, 10000.0], [1.644 / math.sqrt(10.0), 1.644 / math.sqrt(10000.0)])\n",
      "pylab.plot(sizes, errors, 'o')\n",
      "pylab.xscale('log')\n",
      "pylab.yscale('log')\n",
      "pylab.xlabel('number of trials')\n",
      "pylab.ylabel('root mean square deviation')\n",
      "pylab.title('Direct sampling of pi: root mean square deviation vs. n_trials')\n",
      "pylab.savefig('direct_sampling_rms_deviation.png')\n",
      "pylab.show()"
     ],
     "language": "python",
     "metadata": {},
     "outputs": [
      {
       "metadata": {},
       "output_type": "display_data",
       "png": "[encoded data removed]",
       "text": [
        "<matplotlib.figure.Figure at 0x108def7d0>"
       ]
      }
     ],
     "prompt_number": 8
    }
   ],
   "metadata": {}
  }
 ]
}