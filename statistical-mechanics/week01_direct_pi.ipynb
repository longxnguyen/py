{
 "metadata": {
  "name": "",
  "signature": "sha256:ba83605e1ac202f75877866bac632fa0c58ab178a73a28b54cb81aaf45e60770"
 },
 "nbformat": 3,
 "nbformat_minor": 0,
 "worksheets": [
  {
   "cells": [
    {
     "cell_type": "code",
     "collapsed": false,
     "input": [
      "%matplotlib inline\n",
      "import matplotlib.pyplot as plt\n",
      "import numpy as np\n",
      "import random"
     ],
     "language": "python",
     "metadata": {},
     "outputs": [],
     "prompt_number": 22
    },
    {
     "cell_type": "code",
     "collapsed": false,
     "input": [
      "# Directly sampling pi\n",
      "\n",
      "n_trials = 10000\n",
      "n_hits = 0\n",
      "\n",
      "for i in range(n_trials):\n",
      "    x = random.uniform(-1.0, 1.0)\n",
      "    y = random.uniform(-1.0, 1.0)\n",
      "    if x**2 + y**2 < 1.0:\n",
      "        n_hits += 1\n",
      "\n",
      "print 4.0 * n_hits / float(n_trials)"
     ],
     "language": "python",
     "metadata": {},
     "outputs": [
      {
       "output_type": "stream",
       "stream": "stdout",
       "text": [
        "3.1548\n"
       ]
      }
     ],
     "prompt_number": 6
    },
    {
     "cell_type": "code",
     "collapsed": false,
     "input": [
      "def compute_n_successes(n_trials):\n",
      "    \"\"\"Compute the number of points inside the unit circle.\n",
      "    \n",
      "    n_trials: the number of trials/samples.\n",
      "    \"\"\"\n",
      "    n_hits = 0\n",
      "    for i in range(n_trials):\n",
      "        x = random.uniform(-1.0, 1.0)\n",
      "        y = random.uniform(-1.0, 1.0)\n",
      "        if x**2 + y**2 < 1.0:\n",
      "            n_hits += 1\n",
      "    return n_hits"
     ],
     "language": "python",
     "metadata": {},
     "outputs": [],
     "prompt_number": 8
    },
    {
     "cell_type": "code",
     "collapsed": false,
     "input": [
      "n_runs = 1000\n",
      "n_trials = 4000\n",
      "pi = np.zeros(n_runs)\n",
      "for i in range(n_runs):\n",
      "    pi[i] = 4.0 * compute_n_successes(n_trials) / float(n_trials)\n",
      "print pi[:10]"
     ],
     "language": "python",
     "metadata": {},
     "outputs": [
      {
       "output_type": "stream",
       "stream": "stdout",
       "text": [
        "[ 3.136  3.166  3.149  3.137  3.141  3.149  3.096  3.158  3.129  3.154]\n"
       ]
      }
     ],
     "prompt_number": 14
    },
    {
     "cell_type": "code",
     "collapsed": false,
     "input": [
      "np.mean(pi)"
     ],
     "language": "python",
     "metadata": {},
     "outputs": [
      {
       "metadata": {},
       "output_type": "pyout",
       "prompt_number": 12,
       "text": [
        "3.1430659999999997"
       ]
      }
     ],
     "prompt_number": 12
    },
    {
     "cell_type": "markdown",
     "metadata": {},
     "source": [
      "Suppose that the unit circle is big like a football field,\n",
      "how can pebbles be thrown into the circle to compute the value of pi.\n",
      "An idea is to start at some location, throw a pebble randomly, and move\n",
      "to the new pebble position if the new position is inside the circle."
     ]
    },
    {
     "cell_type": "code",
     "collapsed": false,
     "input": [
      "def compute_n_success_by_markov(n_trials):\n",
      "    \"\"\"Compute the number of successful trials using Markov chain.\n",
      "    \"\"\"\n",
      "    max_value = 1.0\n",
      "    delta = 0.1\n",
      "\n",
      "    n_hits = 0\n",
      "    x = y = 1.0\n",
      "    for i in range(n_trials):\n",
      "        dx = random.uniform(-delta, delta)\n",
      "        dy = random.uniform(-delta, delta)\n",
      "        if abs(x + dx) < max_value and abs(y + dy) < max_value:\n",
      "            x += dx\n",
      "            y += dy\n",
      "        if x**2 + y**2 < max_value:\n",
      "            n_hits += 1\n",
      "    return n_hits"
     ],
     "language": "python",
     "metadata": {},
     "outputs": [],
     "prompt_number": 18
    },
    {
     "cell_type": "code",
     "collapsed": false,
     "input": [
      "n_trials = 10000\n",
      "n_hits = compute_n_success_by_markov(n_trials)\n",
      "print 4.0 * n_hits / float(n_trials)"
     ],
     "language": "python",
     "metadata": {},
     "outputs": [
      {
       "output_type": "stream",
       "stream": "stdout",
       "text": [
        "3.1652\n"
       ]
      }
     ],
     "prompt_number": 20
    },
    {
     "cell_type": "code",
     "collapsed": false,
     "input": [
      "n_runs = 1000\n",
      "pi = np.zeros(n_runs)\n",
      "for i in range(n_runs):\n",
      "    pi[i] = 4.0 * compute_n_success_by_markov(n_trials) / float(n_trials)"
     ],
     "language": "python",
     "metadata": {},
     "outputs": [],
     "prompt_number": 24
    },
    {
     "cell_type": "code",
     "collapsed": false,
     "input": [
      "plt.hist(pi)"
     ],
     "language": "python",
     "metadata": {},
     "outputs": [
      {
       "metadata": {},
       "output_type": "pyout",
       "prompt_number": 23,
       "text": [
        "(array([   5.,   27.,   74.,  143.,  234.,  245.,  169.,   77.,   21.,    5.]),\n",
        " array([ 2.6792 ,  2.76648,  2.85376,  2.94104,  3.02832,  3.1156 ,\n",
        "         3.20288,  3.29016,  3.37744,  3.46472,  3.552  ]),\n",
        " <a list of 10 Patch objects>)"
       ]
      },
      {
       "metadata": {},
       "output_type": "display_data",
       "png": "[encoded data removed]",
       "text": [
        "<matplotlib.figure.Figure at 0x107406750>"
       ]
      }
     ],
     "prompt_number": 23
    }
   ],
   "metadata": {}
  }
 ]
}