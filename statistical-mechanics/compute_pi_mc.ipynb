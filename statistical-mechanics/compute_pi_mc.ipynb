{
 "metadata": {
  "name": "",
  "signature": "sha256:a990226d985d34c9641b4f5848681c5751ca89f2547c97900929b13ce6c14227"
 },
 "nbformat": 3,
 "nbformat_minor": 0,
 "worksheets": [
  {
   "cells": [
    {
     "cell_type": "code",
     "collapsed": false,
     "input": [
      "%pylab inline\n",
      "import math\n",
      "import pylab\n",
      "import random"
     ],
     "language": "python",
     "metadata": {},
     "outputs": [
      {
       "output_type": "stream",
       "stream": "stdout",
       "text": [
        "Populating the interactive namespace from numpy and matplotlib\n"
       ]
      },
      {
       "output_type": "stream",
       "stream": "stderr",
       "text": [
        "WARNING: pylab import has clobbered these variables: ['var']\n",
        "`%matplotlib` prevents importing * from pylab and numpy\n"
       ]
      }
     ],
     "prompt_number": 2
    },
    {
     "cell_type": "code",
     "collapsed": false,
     "input": [
      "import numpy as np"
     ],
     "language": "python",
     "metadata": {},
     "outputs": [],
     "prompt_number": 4
    },
    {
     "cell_type": "code",
     "collapsed": false,
     "input": [
      "def markov_pi(n_steps, delta):\n",
      "    \"\"\"Compute the number pi using Markov chain\n",
      "    \n",
      "    n_steps: the number of simulation steps\n",
      "    delta : the maximum of each move.\n",
      "    \"\"\"\n",
      "    x, y = 1.0, 1.0\n",
      "    n_hits = 0\n",
      "    for i in range(n_steps):\n",
      "        del_x, del_y = random.uniform(-delta, delta), random.uniform(-delta, delta)\n",
      "        if abs(x + del_x) < 1.0 and abs(y + del_y) < 1.0:\n",
      "            x, y = x + del_x, y + del_y\n",
      "        if x**2 + y**2 < 1.0:\n",
      "            n_hits += 1\n",
      "    return 4 * n_hits / float(n_steps)"
     ],
     "language": "python",
     "metadata": {},
     "outputs": [],
     "prompt_number": 2
    },
    {
     "cell_type": "code",
     "collapsed": false,
     "input": [
      "markov_pi(20000, 0.5)"
     ],
     "language": "python",
     "metadata": {},
     "outputs": [
      {
       "metadata": {},
       "output_type": "pyout",
       "prompt_number": 3,
       "text": [
        "3.1098"
       ]
      }
     ],
     "prompt_number": 3
    },
    {
     "cell_type": "code",
     "collapsed": false,
     "input": [
      "n_runs = 500\n",
      "for delta in [0.062, 0.125, 0.25, 0.5, 1.0, 2.0, 4.0]:\n",
      "    n_trials_list = []\n",
      "    sigmas = []\n",
      "    for i in range(9):\n",
      "        n_trials = 2 ** (i+4)\n",
      "        sigma = 0.0\n",
      "        for j in range(n_runs):\n",
      "            pi_est = markov_pi(n_trials, delta)\n",
      "            sigma += (math.pi - pi_est) ** 2\n",
      "        sigmas.append(math.sqrt(sigma/n_runs))\n",
      "        n_trials_list.append(n_trials)\n",
      "    pylab.plot(n_trials_list, sigmas, 'o', ms = 8, label = '$\\delta = $' + str(delta))\n",
      "\n",
      "pylab.xscale('log')\n",
      "pylab.yscale('log')\n",
      "pylab.xlabel('number of trials')\n",
      "pylab.ylabel('root mean square deviation')\n",
      "pylab.plot([10,100000],[1.644 / math.sqrt(10.0), 1.644 / math.sqrt(100000.0)], label = 'direct')\n",
      "pylab.title('Markov-chain sampling of pi: root mean square deviation vs. n_trials')\n",
      "pylab.legend(loc='upper right')\n",
      "pylab.savefig('markov_sampling_rms_deviation.png')\n",
      "pylab.show()"
     ],
     "language": "python",
     "metadata": {},
     "outputs": [
      {
       "metadata": {},
       "output_type": "display_data",
       "png": "[encoded data removed]",
       "text": [
        "<matplotlib.figure.Figure at 0x108e13090>"
       ]
      }
     ],
     "prompt_number": 12
    },
    {
     "cell_type": "markdown",
     "metadata": {},
     "source": [
      "From this figure, the most precise result comes from delta =0.5, 1, or 2 (cyan, purple, or dark yellow).\n",
      "\n",
      "When delta is small, is need to take a long time to have good coverage of the unit circle. When delta is large, the random moves are likely to get out of the circle and get rejected. The piles of pebble go up in the language of the instructor.\n",
      "\n",
      "The error is larger than direct sampling because to get one sample in the markov chain, the expected number of runs is much greater than 1 (due the rejection). Concretely, in direct sample, every iteration creates an exact sample. In contrast, multiple iterations in the Markov chain algorithm might just produce one sample."
     ]
    },
    {
     "cell_type": "heading",
     "level": 1,
     "metadata": {},
     "source": [
      "Estimate the Acceptance Rates"
     ]
    },
    {
     "cell_type": "code",
     "collapsed": false,
     "input": [
      "def compute_acceptance_rate(n_steps, delta):\n",
      "    \"\"\"Compute the number pi using Markov chain\n",
      "    \n",
      "    n_steps: the number of simulation steps\n",
      "    delta : the maximum of each move.\n",
      "    \"\"\"\n",
      "    x, y = 1.0, 1.0\n",
      "    n_hits = 0\n",
      "    for i in range(n_steps):\n",
      "        del_x, del_y = random.uniform(-delta, delta), random.uniform(-delta, delta)\n",
      "        if abs(x + del_x) < 1.0 and abs(y + del_y) < 1.0:\n",
      "            x, y = x + del_x, y + del_y\n",
      "        if x**2 + y**2 < 1.0:\n",
      "            n_hits += 1\n",
      "    return n_hits / float(n_steps)"
     ],
     "language": "python",
     "metadata": {},
     "outputs": [],
     "prompt_number": 14
    },
    {
     "cell_type": "code",
     "collapsed": false,
     "input": [
      "for delta in [0.062, 0.125, 0.25, 0.5, 1.0, 2.0, 4.0]:\n",
      "    accept = []\n",
      "    for i in range(100):\n",
      "        accept.append(compute_acceptance_rate(2**12, delta))\n",
      "    print delta, \"  |  \", np.mean(accept)"
     ],
     "language": "python",
     "metadata": {},
     "outputs": [
      {
       "output_type": "stream",
       "stream": "stdout",
       "text": [
        "0.062   |   0.75509765625\n",
        "0.125"
       ]
      },
      {
       "output_type": "stream",
       "stream": "stdout",
       "text": [
        "   |   0.776772460937\n",
        "0.25"
       ]
      },
      {
       "output_type": "stream",
       "stream": "stdout",
       "text": [
        "   |   0.780825195313\n",
        "0.5"
       ]
      },
      {
       "output_type": "stream",
       "stream": "stdout",
       "text": [
        "   |   0.786323242188\n",
        "1.0"
       ]
      },
      {
       "output_type": "stream",
       "stream": "stdout",
       "text": [
        "   |   0.786354980469\n",
        "2.0"
       ]
      },
      {
       "output_type": "stream",
       "stream": "stdout",
       "text": [
        "   |   0.782233886719\n",
        "4.0"
       ]
      },
      {
       "output_type": "stream",
       "stream": "stdout",
       "text": [
        "   |   0.781154785156\n"
       ]
      }
     ],
     "prompt_number": 54
    },
    {
     "cell_type": "heading",
     "level": 1,
     "metadata": {},
     "source": [
      "Estimate the Error"
     ]
    },
    {
     "cell_type": "markdown",
     "metadata": {},
     "source": [
      "In section A, we saw that the error of direct_pi behaves as\n",
      "              1.644 / sqrt(N_trials)\n",
      "while, in Section B, we noticed that the error of markov_pi follows the law:\n",
      "              const / sqrt(N_trials)\n",
      "for large N_trials. The constant is larger (sometimes much larger) than 1.644 and it depends on the stepsize delta.\n",
      "\n",
      "In this Section we understand what the value 1.644 means and how we can compute it with and without knowing the mathematical value of pi. We then find a good way to compute the error in markov_pi.py from a single run and without knowing the mathematical value of pi . This is the bunching method.\n",
      "\n",
      "C1 Modify the program direct_pi.py (from the Coursera website), so that it computes the \"variance\" of the relevant observable (Obs = 0.0 if the pebble is outside the circle, Obs = 4.0 if the pebble is inside the circle). To do so, simply compute the variance, namely the mean value of (Obs - math.pi) **2 and the standard deviation, namely the square root of the variance."
     ]
    },
    {
     "cell_type": "code",
     "collapsed": false,
     "input": [
      "# \n",
      "n_trials = 400000\n",
      "n_hits = 0\n",
      "var = 0.0\n",
      "for iter in range(n_trials):\n",
      "    x, y = random.uniform(-1.0, 1.0), random.uniform(-1.0, 1.0)\n",
      "    Obs = 0.0\n",
      "    if x**2 + y**2 < 1.0:\n",
      "        n_hits += 1\n",
      "        Obs = 4.0\n",
      "    var += (Obs - math.pi)**2\n",
      "print 4.0 * n_hits / float(n_trials), math.sqrt(var / n_trials)"
     ],
     "language": "python",
     "metadata": {},
     "outputs": [
      {
       "output_type": "stream",
       "stream": "stdout",
       "text": [
        "3.1435 1.64085690661\n"
       ]
      }
     ],
     "prompt_number": 3
    },
    {
     "cell_type": "markdown",
     "metadata": {},
     "source": [
      "C2 The program of Section C1 used the exact value of pi in order to compute the error. In a real calculation, we don't know this result beforehand. One therefore replaces pi through its best estimate, the mean value <Obs>. Using\n",
      "<(Obs\u2212pi)2>\u223c<Obs2>\u2212pi2\u223c<Obs2>\u2212<Obs>2,\n",
      "\n",
      "we see that we have to estimate <Obs^2> - <Obs>^2.\n",
      "Modify the program from Section C1 so that it not only estimates the mean value of Obs (Obs can be 0 or 4), but also of Obs^2 (which can be 16 or 0). Check that the square root of <Obs^2> - <Obs>^2 is approximately equal to 1.644.\n",
      "\n",
      "Upload your modified program, where a few added lines compute <Obs> and <Obs^2>, <Obs^2> - <Obs>^2, and its square root.\n",
      "Write down your value for the standard deviation, obtained  from a single run of the modified direct_pi.py. It should be close to  1.644.\n",
      "NB: This procedure for computing the standard deviation can be used quite generally for direct-sampling Monte Carlo algorithms. The error is quite generally given by the ratio of the standard deviation and the square root of the number of samples."
     ]
    },
    {
     "cell_type": "code",
     "collapsed": false,
     "input": [
      "n_trials = 400000\n",
      "n_hits = 0\n",
      "var = 0.0\n",
      "obs = np.zeros(n_trials)\n",
      "for iter in range(n_trials):\n",
      "    x, y = random.uniform(-1.0, 1.0), random.uniform(-1.0, 1.0)\n",
      "    obs[iter] = 0.0\n",
      "    if x**2 + y**2 < 1.0:\n",
      "        n_hits += 1\n",
      "        obs[iter] = 4.0\n",
      "\n",
      "var = np.mean(obs**2) - (obs.mean())**2\n",
      "print 4.0 * n_hits / float(n_trials), math.sqrt(var)"
     ],
     "language": "python",
     "metadata": {},
     "outputs": [
      {
       "output_type": "stream",
       "stream": "stdout",
       "text": [
        "3.13983 1.6434073053\n"
       ]
      }
     ],
     "prompt_number": 11
    },
    {
     "cell_type": "markdown",
     "metadata": {},
     "source": [
      "C3 The previous Section C2 gives a general solution for the direct-sampling, and we now have to do the same for Markov chains. As we saw in Section B1, the error is again as const / sqrt(N_trials), but the constant does not equal 1.664, it may be much larger. Nevertheless, as the distribution of pebbles is the same in the direct-sampling and in Markov-chain sampling, the variance and the standard deviation are the same. The quantity sigma / sqrt(N_trials) strongly UNDERESTIMATES the error, as we saw in Section B1. This is due to the correlation between subsequent samples.\n",
      "\n",
      "To estimate the error of a Markov-chain simulation that has obtained observables Obs_0, Obs_1,...,Obs_(n_trials -1), we should rather BUNCH the data, as follows:\n",
      "(Obs_0 + Obs_1)/2, (Obs_2 + Obs_3)/2, ..., (Obs_(n_trials -2) + Obs_(n_trials -1))/2\n",
      "\n",
      "This gives a new chain of data, with new observables (mean value of two subsequent old ones), a new number of trials that is half the old one, an unchanged mean value, but a new value of the variance, and a new estimate of the error, using the naive formula for direct sampling.This famous bunching procedure can then be iterated, making pairs, then pairs of pairs, then pairs of pairs of pairs.\n",
      "\n",
      "This very successful algorithm is implemented for a long sequence of data produced by markov_pi.py ( x_i = 4 if it corresponds to a hit, and x_i = 0 otherwise) in the below program, that is again provided for convenience.  Copy and past this program into a file and run it."
     ]
    },
    {
     "cell_type": "code",
     "collapsed": false,
     "input": [
      "def markov_pi_all_data(N, delta):\n",
      "    x, y = 1.0, 1.0\n",
      "    data = []\n",
      "    for i in range(N):\n",
      "        del_x, del_y = random.uniform(-delta, delta), random.uniform(-delta, delta)\n",
      "        if abs(x + del_x) < 1.0 and abs(y + del_y) < 1.0:\n",
      "            x, y = x + del_x, y + del_y\n",
      "        if x ** 2 + y ** 2 < 1.0:\n",
      "            data.append(4.0)\n",
      "        else:\n",
      "            data.append(0.0)\n",
      "    return data\n",
      "\n",
      "poweroftwo = 20\n",
      "n_trials = 2 ** poweroftwo\n",
      "delta = 0.1\n",
      "data = markov_pi_all_data(n_trials, delta)\n",
      "errors  = []\n",
      "bunches = []\n",
      "for i in range(poweroftwo):\n",
      "    new_data = []\n",
      "    mean = 0.0\n",
      "    mean_sq = 0.0\n",
      "    N = len(data)\n",
      "    while data != []:\n",
      "        x = data.pop()\n",
      "        y = data.pop()\n",
      "        mean += x + y\n",
      "        mean_sq += x ** 2 + y ** 2\n",
      "        new_data.append((x + y) / 2.0 )\n",
      "    errors.append(math.sqrt(mean_sq / N - (mean / N) ** 2) / math.sqrt(N))\n",
      "    bunches.append(i)\n",
      "    data = new_data[:]\n",
      "    print mean / float(N), 'mean value, estimate of pi'\n",
      "pylab.plot(bunches, errors, 'o')\n",
      "pylab.xlabel('iteration')\n",
      "pylab.ylabel('apparent error')\n",
      "pylab.title('Bunching: naive error vs iteration number')\n",
      "pylab.savefig('apparent_error_bunching.png')\n",
      "pylab.show()"
     ],
     "language": "python",
     "metadata": {},
     "outputs": [
      {
       "output_type": "stream",
       "stream": "stdout",
       "text": [
        "3.13925170898 mean value, estimate of pi\n",
        "3.13925170898"
       ]
      },
      {
       "output_type": "stream",
       "stream": "stdout",
       "text": [
        " mean value, estimate of pi\n",
        "3.13925170898"
       ]
      },
      {
       "output_type": "stream",
       "stream": "stdout",
       "text": [
        " mean value, estimate of pi\n",
        "3.13925170898"
       ]
      },
      {
       "output_type": "stream",
       "stream": "stdout",
       "text": [
        " mean value, estimate of pi\n",
        "3.13925170898 mean value, estimate of pi\n",
        "3.13925170898"
       ]
      },
      {
       "output_type": "stream",
       "stream": "stdout",
       "text": [
        " mean value, estimate of pi\n",
        "3.13925170898 mean value, estimate of pi\n",
        "3.13925170898 mean value, estimate of pi\n",
        "3.13925170898 mean value, estimate of pi\n",
        "3.13925170898 mean value, estimate of pi\n",
        "3.13925170898 mean value, estimate of pi\n",
        "3.13925170898 mean value, estimate of pi\n",
        "3.13925170898 mean value, estimate of pi\n",
        "3.13925170898 mean value, estimate of pi\n",
        "3.13925170898 mean value, estimate of pi\n",
        "3.13925170898 mean value, estimate of pi\n",
        "3.13925170898 mean value, estimate of pi\n",
        "3.13925170898 mean value, estimate of pi\n",
        "3.13925170898 mean value, estimate of pi\n",
        "3.13925170898 mean value, estimate of pi\n"
       ]
      },
      {
       "metadata": {},
       "output_type": "display_data",
       "png": "[encoded data removed]",
       "text": [
        "<matplotlib.figure.Figure at 0x10992e890>"
       ]
      }
     ],
     "prompt_number": 12
    },
    {
     "cell_type": "markdown",
     "metadata": {},
     "source": [
      "The program produces a plot of naive (apparent) error against the iteration of the bunching procedure.\n",
      "\n",
      "The observed error is found to increase with the iterations, then exhibits a plateau (to see this you may have to run the program several times). This plateau is an excellent estimation of the true error of a single Markov chain output. Run this program, then\n",
      "Upload the plot you obtained (usually in png format).\n",
      "Explain in a few words why the apparent error initially increases with the iterations, then saturates  (more or less) to a plateau.\n",
      "The program outputs the mean value (which does not change with iteration), the Monte Carlo evaluation pi^est of pi. Compare the absolute value of (pi^est - pi) with the plateau error. Are they similar?\n",
      "NB: For your own interest, you can rerun this program for different values of N_trial and delta, to understand the  rubustness of the error evaluation. It is also very interesting to modify in the bunching algorithm the function markov_pi_all_data into a function direct_pi_all_data. You will then see a very large plateau, from the first iteration on."
     ]
    },
    {
     "cell_type": "code",
     "collapsed": false,
     "input": [
      "# Absolute value of error\n",
      "math.pi - 3.13925170898"
     ],
     "language": "python",
     "metadata": {},
     "outputs": [
      {
       "metadata": {},
       "output_type": "pyout",
       "prompt_number": 13,
       "text": [
        "0.002340944609793283"
       ]
      }
     ],
     "prompt_number": 13
    }
   ],
   "metadata": {}
  }
 ]
}