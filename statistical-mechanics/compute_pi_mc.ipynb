{
 "metadata": {
  "name": "",
  "signature": "sha256:0e8c130d2cd872e86163489970e92fc7fcb487966c8c06743b6f3ecc67656339"
 },
 "nbformat": 3,
 "nbformat_minor": 0,
 "worksheets": [
  {
   "cells": [
    {
     "cell_type": "code",
     "collapsed": false,
     "input": [
      "%pylab inline\n",
      "import math\n",
      "import pylab\n",
      "import random"
     ],
     "language": "python",
     "metadata": {},
     "outputs": [
      {
       "output_type": "stream",
       "stream": "stdout",
       "text": [
        "Populating the interactive namespace from numpy and matplotlib\n"
       ]
      }
     ],
     "prompt_number": 1
    },
    {
     "cell_type": "code",
     "collapsed": false,
     "input": [
      "def markov_pi(n_steps, delta):\n",
      "    \"\"\"Compute the number pi using Markov chain\n",
      "    \n",
      "    n_steps: the number of simulation steps\n",
      "    delta : the maximum of each move.\n",
      "    \"\"\"\n",
      "    x, y = 1.0, 1.0\n",
      "    n_hits = 0\n",
      "    for i in range(n_steps):\n",
      "        del_x, del_y = random.uniform(-delta, delta), random.uniform(-delta, delta)\n",
      "        if abs(x + del_x) < 1.0 and abs(y + del_y) < 1.0:\n",
      "            x, y = x + del_x, y + del_y\n",
      "        if x**2 + y**2 < 1.0:\n",
      "            n_hits += 1\n",
      "    return 4 * n_hits / float(n_steps)"
     ],
     "language": "python",
     "metadata": {},
     "outputs": [],
     "prompt_number": 2
    },
    {
     "cell_type": "code",
     "collapsed": false,
     "input": [
      "markov_pi(20000, 0.5)"
     ],
     "language": "python",
     "metadata": {},
     "outputs": [
      {
       "metadata": {},
       "output_type": "pyout",
       "prompt_number": 3,
       "text": [
        "3.1098"
       ]
      }
     ],
     "prompt_number": 3
    },
    {
     "cell_type": "code",
     "collapsed": false,
     "input": [
      "n_runs = 500\n",
      "for delta in [0.062, 0.125, 0.25, 0.5, 1.0, 2.0, 4.0]:\n",
      "    n_trials_list = []\n",
      "    sigmas = []\n",
      "    for i in range(9):\n",
      "        n_trials = 2 ** (i+4)\n",
      "        sigma = 0.0\n",
      "        for j in range(n_runs):\n",
      "            pi_est = markov_pi(n_trials, delta)\n",
      "            sigma += (math.pi - pi_est) ** 2\n",
      "        sigmas.append(math.sqrt(sigma/n_runs))\n",
      "        n_trials_list.append(n_trials)\n",
      "    pylab.plot(n_trials_list, sigmas, 'o', ms = 8, label = '$\\delta = $' + str(delta))\n",
      "\n",
      "pylab.xscale('log')\n",
      "pylab.yscale('log')\n",
      "pylab.xlabel('number of trials')\n",
      "pylab.ylabel('root mean square deviation')\n",
      "pylab.plot([10,100000],[1.644 / math.sqrt(10.0), 1.644 / math.sqrt(100000.0)], label = 'direct')\n",
      "pylab.title('Markov-chain sampling of pi: root mean square deviation vs. n_trials')\n",
      "pylab.legend(loc='upper right')\n",
      "pylab.savefig('markov_sampling_rms_deviation.png')\n",
      "pylab.show()"
     ],
     "language": "python",
     "metadata": {},
     "outputs": [
      {
       "metadata": {},
       "output_type": "display_data",
       "png": "[encoded data removed]",
       "text": [
        "<matplotlib.figure.Figure at 0x108e13090>"
       ]
      }
     ],
     "prompt_number": 12
    },
    {
     "cell_type": "markdown",
     "metadata": {},
     "source": [
      "From this figure, the most precise result comes from delta =0.5, 1, or 2 (cyan, purple, or dark yellow).\n",
      "\n",
      "When delta is small, is need to take a long time to have good coverage of the unit circle. When delta is large, the random moves are likely to get out of the circle and get rejected. The piles of pebble go up in the language of the instructor.\n",
      "\n",
      "The error is larger than direct sampling because to get one sample in the markov chain, the expected number of runs is much greater than 1 (due the rejection). Concretely, in direct sample, every iteration creates an exact sample. In contrast, multiple iterations in the Markov chain algorithm might just produce one sample."
     ]
    },
    {
     "cell_type": "heading",
     "level": 1,
     "metadata": {},
     "source": [
      "Estimate the Acceptance Rates"
     ]
    },
    {
     "cell_type": "code",
     "collapsed": false,
     "input": [
      "def compute_acceptance_rate(n_steps, delta):\n",
      "    \"\"\"Compute the number pi using Markov chain\n",
      "    \n",
      "    n_steps: the number of simulation steps\n",
      "    delta : the maximum of each move.\n",
      "    \"\"\"\n",
      "    x, y = 1.0, 1.0\n",
      "    n_hits = 0\n",
      "    for i in range(n_steps):\n",
      "        del_x, del_y = random.uniform(-delta, delta), random.uniform(-delta, delta)\n",
      "        if abs(x + del_x) < 1.0 and abs(y + del_y) < 1.0:\n",
      "            x, y = x + del_x, y + del_y\n",
      "        if x**2 + y**2 < 1.0:\n",
      "            n_hits += 1\n",
      "    return n_hits / float(n_steps)"
     ],
     "language": "python",
     "metadata": {},
     "outputs": [],
     "prompt_number": 14
    },
    {
     "cell_type": "code",
     "collapsed": false,
     "input": [
      "for delta in [0.062, 0.125, 0.25, 0.5, 1.0, 2.0, 4.0]:\n",
      "    accept = []\n",
      "    for i in range(100):\n",
      "        accept.append(compute_acceptance_rate(2**12, delta))\n",
      "    print delta, \"  |  \", np.mean(accept)"
     ],
     "language": "python",
     "metadata": {},
     "outputs": [
      {
       "output_type": "stream",
       "stream": "stdout",
       "text": [
        "0.062   |   0.75509765625\n",
        "0.125"
       ]
      },
      {
       "output_type": "stream",
       "stream": "stdout",
       "text": [
        "   |   0.776772460937\n",
        "0.25"
       ]
      },
      {
       "output_type": "stream",
       "stream": "stdout",
       "text": [
        "   |   0.780825195313\n",
        "0.5"
       ]
      },
      {
       "output_type": "stream",
       "stream": "stdout",
       "text": [
        "   |   0.786323242188\n",
        "1.0"
       ]
      },
      {
       "output_type": "stream",
       "stream": "stdout",
       "text": [
        "   |   0.786354980469\n",
        "2.0"
       ]
      },
      {
       "output_type": "stream",
       "stream": "stdout",
       "text": [
        "   |   0.782233886719\n",
        "4.0"
       ]
      },
      {
       "output_type": "stream",
       "stream": "stdout",
       "text": [
        "   |   0.781154785156\n"
       ]
      }
     ],
     "prompt_number": 54
    }
   ],
   "metadata": {}
  }
 ]
}