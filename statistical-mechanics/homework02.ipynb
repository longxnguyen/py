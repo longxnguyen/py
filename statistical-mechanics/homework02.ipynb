{
 "metadata": {
  "name": "",
  "signature": "sha256:703b58fc4d60d3a184f120c06de20bd198c7912a30d650774983bfb38a922b32"
 },
 "nbformat": 3,
 "nbformat_minor": 0,
 "worksheets": [
  {
   "cells": [
    {
     "cell_type": "heading",
     "level": 1,
     "metadata": {},
     "source": [
      "A1 direct_disk_box.py"
     ]
    },
    {
     "cell_type": "markdown",
     "metadata": {},
     "source": [
      "A Equiprobability  In lecture 2 and tutorial 2, we insisted on the equiprobability principle, which governs the statistical physics of hard disks: All legal configurations  are to be equally probable."
     ]
    },
    {
     "cell_type": "code",
     "collapsed": false,
     "input": [
      "import random, math\n",
      "\n",
      "def direct_disks_box(N, sigma):\n",
      "    condition = False\n",
      "    while condition == False:\n",
      "        L = [(random.uniform(sigma, 1.0 - sigma), random.uniform(sigma, 1.0 - sigma))]\n",
      "        for k in range(1, N):\n",
      "            a = (random.uniform(sigma, 1.0 - sigma), random.uniform(sigma, 1.0 - sigma))\n",
      "            min_dist = min(math.sqrt((a[0] - b[0]) ** 2 + (a[1] - b[1]) ** 2) for b in L)\n",
      "            if min_dist < 2.0 * sigma:\n",
      "                condition = False\n",
      "                break\n",
      "            else:\n",
      "                L.append(a)\n",
      "                condition = True\n",
      "    return L\n",
      "\n",
      "sigma = 0.15\n",
      "del_xy = 0.10\n",
      "n_runs = 10**5\n",
      "conf_a = ((0.30, 0.30), (0.30, 0.70), (0.70, 0.30), (0.70,0.70))\n",
      "conf_b = ((0.20, 0.20), (0.20, 0.80), (0.75, 0.25), (0.75,0.75))\n",
      "conf_c = ((0.30, 0.20), (0.30, 0.80), (0.70, 0.20), (0.70,0.70))\n",
      "configurations = [conf_a, conf_b, conf_c]\n",
      "hits = {conf_a: 0, conf_b: 0, conf_c: 0}\n",
      "for run in range(n_runs):\n",
      "    x_vec = direct_disks_box(4, sigma)\n",
      "    for conf in configurations:\n",
      "        condition_hit = True\n",
      "        for b in conf:\n",
      "            condition_b = min(max(abs(a[0] - b[0]), abs(a[1] - b[1])) for a in x_vec) < del_xy\n",
      "            condition_hit *= condition_b\n",
      "        if condition_hit:\n",
      "            hits[conf] += 1\n",
      "for a in hits:\n",
      "    print a, hits[a]"
     ],
     "language": "python",
     "metadata": {},
     "outputs": [
      {
       "output_type": "stream",
       "stream": "stdout",
       "text": [
        "((0.3, 0.2), (0.3, 0.8), (0.7, 0.2), (0.7, 0.7)) 1037\n",
        "((0.3, 0.3), (0.3, 0.7), (0.7, 0.3), (0.7, 0.7)) 1963\n",
        "((0.2, 0.2), (0.2, 0.8), (0.75, 0.25), (0.75, 0.75)) 903\n"
       ]
      }
     ],
     "prompt_number": 12
    },
    {
     "cell_type": "heading",
     "level": 1,
     "metadata": {},
     "source": [
      "A2 Markov_disks_box.py"
     ]
    },
    {
     "cell_type": "code",
     "collapsed": false,
     "input": [
      "def markov_disks_box(n_steps, sigma):\n",
      "    L = [[0.25, 0.25], [0.75, 0.25], [0.25, 0.75], [0.75, 0.75]]\n",
      "    sigma_sq = sigma ** 2\n",
      "    delta = 0.1\n",
      "    for steps in range(n_steps):\n",
      "        a = random.choice(L)\n",
      "        b = [a[0] + random.uniform(-delta, delta), a[1] + random.uniform(-delta, delta)]\n",
      "        min_dist = min((b[0] - c[0]) ** 2 + (b[1] - c[1]) ** 2 for c in L if c != a)\n",
      "        box_cond = min(b[0], b[1]) < sigma or max(b[0], b[1]) > 1.0 - sigma\n",
      "        if not (box_cond or min_dist < 4.0 * sigma ** 2):\n",
      "            a[:] = b\n",
      "    return L\n",
      "\n",
      "sigma = 0.15\n",
      "del_xy = 0.10\n",
      "n_runs = 10**4\n",
      "conf_a = ((0.30, 0.30), (0.30, 0.70), (0.70, 0.30), (0.70,0.70))\n",
      "conf_b = ((0.20, 0.20), (0.20, 0.80), (0.75, 0.25), (0.75,0.75))\n",
      "conf_c = ((0.30, 0.20), (0.30, 0.80), (0.70, 0.20), (0.70,0.70))\n",
      "configurations = [conf_a, conf_b, conf_c]\n",
      "hits = {conf_a: 0, conf_b: 0, conf_c: 0}\n",
      "for run in range(n_runs):\n",
      "    x_vec = markov_disks_box(1000, sigma)\n",
      "    for conf in configurations:\n",
      "        condition_hit = True\n",
      "        for b in conf:\n",
      "            condition_b = min(max(abs(a[0] - b[0]), abs(a[1] - b[1])) for a in x_vec) < del_xy\n",
      "            condition_hit *= condition_b\n",
      "        if condition_hit:\n",
      "            hits[conf] += 1\n",
      "for a in hits:\n",
      "    print a, hits[a]"
     ],
     "language": "python",
     "metadata": {},
     "outputs": [
      {
       "output_type": "stream",
       "stream": "stdout",
       "text": [
        "((0.3, 0.2), (0.3, 0.8), (0.7, 0.2), (0.7, 0.7)) 93\n",
        "((0.3, 0.3), (0.3, 0.7), (0.7, 0.3), (0.7, 0.7)) 172\n",
        "((0.2, 0.2), (0.2, 0.8), (0.75, 0.25), (0.75, 0.75)) 76\n"
       ]
      }
     ],
     "prompt_number": 16
    }
   ],
   "metadata": {}
  }
 ]
}